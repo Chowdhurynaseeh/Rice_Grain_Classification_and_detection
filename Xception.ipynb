{
 "cells": [
  {
   "cell_type": "code",
   "execution_count": 2,
   "id": "cd133517-737e-41ca-9176-0dc0918f3e39",
   "metadata": {},
   "outputs": [
    {
     "name": "stdout",
     "output_type": "stream",
     "text": [
      "Requirement already satisfied: timm in c:\\users\\administrator\\anaconda3\\envs\\torch\\lib\\site-packages (1.0.11)\n",
      "Requirement already satisfied: torch in c:\\users\\administrator\\anaconda3\\envs\\torch\\lib\\site-packages (from timm) (2.4.1)\n",
      "Requirement already satisfied: torchvision in c:\\users\\administrator\\anaconda3\\envs\\torch\\lib\\site-packages (from timm) (0.20.0)\n",
      "Requirement already satisfied: pyyaml in c:\\users\\administrator\\anaconda3\\envs\\torch\\lib\\site-packages (from timm) (6.0.2)\n",
      "Requirement already satisfied: huggingface_hub in c:\\users\\administrator\\anaconda3\\envs\\torch\\lib\\site-packages (from timm) (0.26.2)\n",
      "Requirement already satisfied: safetensors in c:\\users\\administrator\\anaconda3\\envs\\torch\\lib\\site-packages (from timm) (0.4.5)\n",
      "Requirement already satisfied: filelock in c:\\users\\administrator\\anaconda3\\envs\\torch\\lib\\site-packages (from huggingface_hub->timm) (3.13.1)\n",
      "Requirement already satisfied: fsspec>=2023.5.0 in c:\\users\\administrator\\anaconda3\\envs\\torch\\lib\\site-packages (from huggingface_hub->timm) (2024.10.0)\n",
      "Requirement already satisfied: packaging>=20.9 in c:\\users\\administrator\\anaconda3\\envs\\torch\\lib\\site-packages (from huggingface_hub->timm) (24.1)\n",
      "Requirement already satisfied: requests in c:\\users\\administrator\\anaconda3\\envs\\torch\\lib\\site-packages (from huggingface_hub->timm) (2.32.3)\n",
      "Requirement already satisfied: tqdm>=4.42.1 in c:\\users\\administrator\\anaconda3\\envs\\torch\\lib\\site-packages (from huggingface_hub->timm) (4.66.6)\n",
      "Requirement already satisfied: typing-extensions>=3.7.4.3 in c:\\users\\administrator\\anaconda3\\envs\\torch\\lib\\site-packages (from huggingface_hub->timm) (4.11.0)\n",
      "Requirement already satisfied: sympy in c:\\users\\administrator\\anaconda3\\envs\\torch\\lib\\site-packages (from torch->timm) (1.13.2)\n",
      "Requirement already satisfied: networkx in c:\\users\\administrator\\anaconda3\\envs\\torch\\lib\\site-packages (from torch->timm) (3.1)\n",
      "Requirement already satisfied: jinja2 in c:\\users\\administrator\\anaconda3\\envs\\torch\\lib\\site-packages (from torch->timm) (3.1.4)\n",
      "Requirement already satisfied: numpy in c:\\users\\administrator\\anaconda3\\envs\\torch\\lib\\site-packages (from torchvision->timm) (1.24.3)\n",
      "Requirement already satisfied: pillow!=8.3.*,>=5.3.0 in c:\\users\\administrator\\anaconda3\\envs\\torch\\lib\\site-packages (from torchvision->timm) (10.4.0)\n",
      "Requirement already satisfied: colorama in c:\\users\\administrator\\anaconda3\\envs\\torch\\lib\\site-packages (from tqdm>=4.42.1->huggingface_hub->timm) (0.4.6)\n",
      "Requirement already satisfied: MarkupSafe>=2.0 in c:\\users\\administrator\\anaconda3\\envs\\torch\\lib\\site-packages (from jinja2->torch->timm) (2.1.3)\n",
      "Requirement already satisfied: charset-normalizer<4,>=2 in c:\\users\\administrator\\anaconda3\\envs\\torch\\lib\\site-packages (from requests->huggingface_hub->timm) (3.3.2)\n",
      "Requirement already satisfied: idna<4,>=2.5 in c:\\users\\administrator\\anaconda3\\envs\\torch\\lib\\site-packages (from requests->huggingface_hub->timm) (3.7)\n",
      "Requirement already satisfied: urllib3<3,>=1.21.1 in c:\\users\\administrator\\anaconda3\\envs\\torch\\lib\\site-packages (from requests->huggingface_hub->timm) (2.2.3)\n",
      "Requirement already satisfied: certifi>=2017.4.17 in c:\\users\\administrator\\anaconda3\\envs\\torch\\lib\\site-packages (from requests->huggingface_hub->timm) (2024.8.30)\n",
      "Requirement already satisfied: mpmath<1.4,>=1.1.0 in c:\\users\\administrator\\anaconda3\\envs\\torch\\lib\\site-packages (from sympy->torch->timm) (1.3.0)\n"
     ]
    }
   ],
   "source": [
    "!pip install timm"
   ]
  },
  {
   "cell_type": "code",
   "execution_count": 3,
   "id": "fe1f8c59-6aaa-4368-877b-490ad6f442df",
   "metadata": {},
   "outputs": [],
   "source": [
    "import os\n",
    "import torch\n",
    "import torch.nn as nn\n",
    "import torch.optim as optim\n",
    "from torch.utils.data import DataLoader\n",
    "from torchvision import datasets, transforms, models\n",
    "import matplotlib.pyplot as plt\n",
    "from tqdm import tqdm\n",
    "from torchsummary import summary\n",
    "from sklearn.metrics import precision_score, recall_score, f1_score, accuracy_score, confusion_matrix, roc_curve, auc, average_precision_score, precision_recall_curve\n",
    "import pandas as pd\n",
    "import numpy as np\n",
    "import seaborn as sns\n",
    "from sklearn.preprocessing import label_binarize\n",
    "from tabulate import tabulate\n",
    "import timm  # Import timm after installation\n",
    "import csv"
   ]
  },
  {
   "cell_type": "code",
   "execution_count": 4,
   "id": "639d6570-0a95-4c82-8c2b-75f4869f2511",
   "metadata": {},
   "outputs": [
    {
     "name": "stdout",
     "output_type": "stream",
     "text": [
      "Using device: cuda\n"
     ]
    }
   ],
   "source": [
    "# Check if GPU is available\n",
    "device = torch.device(\"cuda\" if torch.cuda.is_available() else \"cpu\")\n",
    "print(f\"Using device: {device}\")"
   ]
  },
  {
   "cell_type": "code",
   "execution_count": 5,
   "id": "60347c5b-bbb0-4f27-b2c5-e2f147096564",
   "metadata": {},
   "outputs": [],
   "source": [
    "# Set paths for dataset splits\n",
    "train_dir = 'I:/RICE/final_rice_data/train'\n",
    "val_dir = 'I:/RICE/final_rice_data/val'\n",
    "test_dir = 'I:/RICE/final_rice_data/test'"
   ]
  },
  {
   "cell_type": "code",
   "execution_count": 6,
   "id": "1b47b62e-59a3-48fc-9e1d-d6932c31af8b",
   "metadata": {},
   "outputs": [
    {
     "name": "stdout",
     "output_type": "stream",
     "text": [
      "Total number of images in the training set: 10000\n",
      "Total number of images in the validation set: 1250\n",
      "Total number of images in the test set: 1250\n"
     ]
    }
   ],
   "source": [
    "# Function to count images in a directory\n",
    "def count_images_in_directory(directory):\n",
    "    count = 0\n",
    "    for _, _, files in os.walk(directory):\n",
    "        count += len([f for f in files if f.lower().endswith(('.png', '.jpg', '.jpeg'))])\n",
    "    return count\n",
    "\n",
    "# Count images in each directory\n",
    "train_count = count_images_in_directory(train_dir)\n",
    "val_count = count_images_in_directory(val_dir)\n",
    "test_count = count_images_in_directory(test_dir)\n",
    "\n",
    "# Display the counts\n",
    "print(f\"Total number of images in the training set: {train_count}\")\n",
    "print(f\"Total number of images in the validation set: {val_count}\")\n",
    "print(f\"Total number of images in the test set: {test_count}\")"
   ]
  },
  {
   "cell_type": "code",
   "execution_count": 7,
   "id": "507e0485-78bc-4dc2-a2a6-ecba5c63ceaa",
   "metadata": {},
   "outputs": [],
   "source": [
    "# Data augmentation and normalization for training\n",
    "train_transforms = transforms.Compose([\n",
    "    transforms.Resize((224, 224)),          # Resize images\n",
    "    transforms.RandomHorizontalFlip(),        # Random horizontal flip\n",
    "    transforms.RandomRotation(20),            # Random rotation\n",
    "    transforms.ToTensor(),                    # Convert image to tensor\n",
    "    transforms.Normalize(mean=[0.485, 0.456, 0.406], std=[0.229, 0.224, 0.225]), # Normalize\n",
    "])"
   ]
  },
  {
   "cell_type": "code",
   "execution_count": 8,
   "id": "1dbc2ad4-d2f9-4e32-879a-c396e22e0c2f",
   "metadata": {},
   "outputs": [],
   "source": [
    "# Normalization for validation and test\n",
    "val_test_transforms = transforms.Compose([\n",
    "    transforms.Resize((224, 224)), \n",
    "    transforms.ToTensor(), \n",
    "    transforms.Normalize(mean=[0.485, 0.456, 0.406], std=[0.229, 0.224, 0.225]),\n",
    "])"
   ]
  },
  {
   "cell_type": "code",
   "execution_count": 9,
   "id": "5503bb44-aa0e-43a7-a3bd-dc02456b1156",
   "metadata": {},
   "outputs": [],
   "source": [
    "# Load datasets\n",
    "train_dataset = datasets.ImageFolder(root=train_dir, transform=train_transforms)\n",
    "val_dataset = datasets.ImageFolder(root=val_dir, transform=val_test_transforms)\n",
    "test_dataset = datasets.ImageFolder(root=test_dir, transform=val_test_transforms)"
   ]
  },
  {
   "cell_type": "code",
   "execution_count": 10,
   "id": "2e848bd8-1c26-4f02-96fd-b7de1c9fb6f3",
   "metadata": {},
   "outputs": [],
   "source": [
    "# Data loaders\n",
    "train_loader = DataLoader(train_dataset, batch_size=32, shuffle=True)\n",
    "val_loader = DataLoader(val_dataset, batch_size=32, shuffle=False)\n",
    "test_loader = DataLoader(test_dataset, batch_size=32, shuffle=False)"
   ]
  },
  {
   "cell_type": "code",
   "execution_count": 11,
   "id": "22e302fa-5842-4e3c-8975-0423bb71f25d",
   "metadata": {},
   "outputs": [
    {
     "name": "stderr",
     "output_type": "stream",
     "text": [
      "C:\\Users\\Administrator\\anaconda3\\envs\\torch\\lib\\site-packages\\timm\\models\\_factory.py:117: UserWarning: Mapping deprecated model name xception to current legacy_xception.\n",
      "  model = create_fn(\n"
     ]
    }
   ],
   "source": [
    "# Define the Xception model architecture\n",
    "class XceptionModel(nn.Module):\n",
    "    def __init__(self, num_classes):\n",
    "        super(XceptionModel, self).__init__()\n",
    "        self.xception = timm.create_model('xception', pretrained=True)  # Load Xception with pretrained weights\n",
    "        self.xception.fc = nn.Linear(self.xception.get_classifier().in_features, num_classes)  # Modify the last layer\n",
    "\n",
    "    def forward(self, x):\n",
    "        return self.xception(x)\n",
    "\n",
    "num_classes = 5  # Number of classes\n",
    "device = torch.device(\"cuda\" if torch.cuda.is_available() else \"cpu\")\n",
    "model = XceptionModel(num_classes).to(device)"
   ]
  },
  {
   "cell_type": "code",
   "execution_count": 12,
   "id": "762ddfda-48f6-4f5c-81fc-8d50ccfcc8d0",
   "metadata": {},
   "outputs": [
    {
     "name": "stdout",
     "output_type": "stream",
     "text": [
      "----------------------------------------------------------------\n",
      "        Layer (type)               Output Shape         Param #\n",
      "================================================================\n",
      "            Conv2d-1         [-1, 32, 149, 149]             864\n",
      "       BatchNorm2d-2         [-1, 32, 149, 149]              64\n",
      "              ReLU-3         [-1, 32, 149, 149]               0\n",
      "            Conv2d-4         [-1, 64, 147, 147]          18,432\n",
      "       BatchNorm2d-5         [-1, 64, 147, 147]             128\n",
      "              ReLU-6         [-1, 64, 147, 147]               0\n",
      "            Conv2d-7         [-1, 64, 147, 147]             576\n",
      "            Conv2d-8        [-1, 128, 147, 147]           8,192\n",
      "   SeparableConv2d-9        [-1, 128, 147, 147]               0\n",
      "      BatchNorm2d-10        [-1, 128, 147, 147]             256\n",
      "             ReLU-11        [-1, 128, 147, 147]               0\n",
      "           Conv2d-12        [-1, 128, 147, 147]           1,152\n",
      "           Conv2d-13        [-1, 128, 147, 147]          16,384\n",
      "  SeparableConv2d-14        [-1, 128, 147, 147]               0\n",
      "      BatchNorm2d-15        [-1, 128, 147, 147]             256\n",
      "        MaxPool2d-16          [-1, 128, 74, 74]               0\n",
      "           Conv2d-17          [-1, 128, 74, 74]           8,192\n",
      "      BatchNorm2d-18          [-1, 128, 74, 74]             256\n",
      "            Block-19          [-1, 128, 74, 74]               0\n",
      "             ReLU-20          [-1, 128, 74, 74]               0\n",
      "           Conv2d-21          [-1, 128, 74, 74]           1,152\n",
      "           Conv2d-22          [-1, 256, 74, 74]          32,768\n",
      "  SeparableConv2d-23          [-1, 256, 74, 74]               0\n",
      "      BatchNorm2d-24          [-1, 256, 74, 74]             512\n",
      "             ReLU-25          [-1, 256, 74, 74]               0\n",
      "           Conv2d-26          [-1, 256, 74, 74]           2,304\n",
      "           Conv2d-27          [-1, 256, 74, 74]          65,536\n",
      "  SeparableConv2d-28          [-1, 256, 74, 74]               0\n",
      "      BatchNorm2d-29          [-1, 256, 74, 74]             512\n",
      "        MaxPool2d-30          [-1, 256, 37, 37]               0\n",
      "           Conv2d-31          [-1, 256, 37, 37]          32,768\n",
      "      BatchNorm2d-32          [-1, 256, 37, 37]             512\n",
      "            Block-33          [-1, 256, 37, 37]               0\n",
      "             ReLU-34          [-1, 256, 37, 37]               0\n",
      "           Conv2d-35          [-1, 256, 37, 37]           2,304\n",
      "           Conv2d-36          [-1, 728, 37, 37]         186,368\n",
      "  SeparableConv2d-37          [-1, 728, 37, 37]               0\n",
      "      BatchNorm2d-38          [-1, 728, 37, 37]           1,456\n",
      "             ReLU-39          [-1, 728, 37, 37]               0\n",
      "           Conv2d-40          [-1, 728, 37, 37]           6,552\n",
      "           Conv2d-41          [-1, 728, 37, 37]         529,984\n",
      "  SeparableConv2d-42          [-1, 728, 37, 37]               0\n",
      "      BatchNorm2d-43          [-1, 728, 37, 37]           1,456\n",
      "        MaxPool2d-44          [-1, 728, 19, 19]               0\n",
      "           Conv2d-45          [-1, 728, 19, 19]         186,368\n",
      "      BatchNorm2d-46          [-1, 728, 19, 19]           1,456\n",
      "            Block-47          [-1, 728, 19, 19]               0\n",
      "             ReLU-48          [-1, 728, 19, 19]               0\n",
      "           Conv2d-49          [-1, 728, 19, 19]           6,552\n",
      "           Conv2d-50          [-1, 728, 19, 19]         529,984\n",
      "  SeparableConv2d-51          [-1, 728, 19, 19]               0\n",
      "      BatchNorm2d-52          [-1, 728, 19, 19]           1,456\n",
      "             ReLU-53          [-1, 728, 19, 19]               0\n",
      "           Conv2d-54          [-1, 728, 19, 19]           6,552\n",
      "           Conv2d-55          [-1, 728, 19, 19]         529,984\n",
      "  SeparableConv2d-56          [-1, 728, 19, 19]               0\n",
      "      BatchNorm2d-57          [-1, 728, 19, 19]           1,456\n",
      "             ReLU-58          [-1, 728, 19, 19]               0\n",
      "           Conv2d-59          [-1, 728, 19, 19]           6,552\n",
      "           Conv2d-60          [-1, 728, 19, 19]         529,984\n",
      "  SeparableConv2d-61          [-1, 728, 19, 19]               0\n",
      "      BatchNorm2d-62          [-1, 728, 19, 19]           1,456\n",
      "            Block-63          [-1, 728, 19, 19]               0\n",
      "             ReLU-64          [-1, 728, 19, 19]               0\n",
      "           Conv2d-65          [-1, 728, 19, 19]           6,552\n",
      "           Conv2d-66          [-1, 728, 19, 19]         529,984\n",
      "  SeparableConv2d-67          [-1, 728, 19, 19]               0\n",
      "      BatchNorm2d-68          [-1, 728, 19, 19]           1,456\n",
      "             ReLU-69          [-1, 728, 19, 19]               0\n",
      "           Conv2d-70          [-1, 728, 19, 19]           6,552\n",
      "           Conv2d-71          [-1, 728, 19, 19]         529,984\n",
      "  SeparableConv2d-72          [-1, 728, 19, 19]               0\n",
      "      BatchNorm2d-73          [-1, 728, 19, 19]           1,456\n",
      "             ReLU-74          [-1, 728, 19, 19]               0\n",
      "           Conv2d-75          [-1, 728, 19, 19]           6,552\n",
      "           Conv2d-76          [-1, 728, 19, 19]         529,984\n",
      "  SeparableConv2d-77          [-1, 728, 19, 19]               0\n",
      "      BatchNorm2d-78          [-1, 728, 19, 19]           1,456\n",
      "            Block-79          [-1, 728, 19, 19]               0\n",
      "             ReLU-80          [-1, 728, 19, 19]               0\n",
      "           Conv2d-81          [-1, 728, 19, 19]           6,552\n",
      "           Conv2d-82          [-1, 728, 19, 19]         529,984\n",
      "  SeparableConv2d-83          [-1, 728, 19, 19]               0\n",
      "      BatchNorm2d-84          [-1, 728, 19, 19]           1,456\n",
      "             ReLU-85          [-1, 728, 19, 19]               0\n",
      "           Conv2d-86          [-1, 728, 19, 19]           6,552\n",
      "           Conv2d-87          [-1, 728, 19, 19]         529,984\n",
      "  SeparableConv2d-88          [-1, 728, 19, 19]               0\n",
      "      BatchNorm2d-89          [-1, 728, 19, 19]           1,456\n",
      "             ReLU-90          [-1, 728, 19, 19]               0\n",
      "           Conv2d-91          [-1, 728, 19, 19]           6,552\n",
      "           Conv2d-92          [-1, 728, 19, 19]         529,984\n",
      "  SeparableConv2d-93          [-1, 728, 19, 19]               0\n",
      "      BatchNorm2d-94          [-1, 728, 19, 19]           1,456\n",
      "            Block-95          [-1, 728, 19, 19]               0\n",
      "             ReLU-96          [-1, 728, 19, 19]               0\n",
      "           Conv2d-97          [-1, 728, 19, 19]           6,552\n",
      "           Conv2d-98          [-1, 728, 19, 19]         529,984\n",
      "  SeparableConv2d-99          [-1, 728, 19, 19]               0\n",
      "     BatchNorm2d-100          [-1, 728, 19, 19]           1,456\n",
      "            ReLU-101          [-1, 728, 19, 19]               0\n",
      "          Conv2d-102          [-1, 728, 19, 19]           6,552\n",
      "          Conv2d-103          [-1, 728, 19, 19]         529,984\n",
      " SeparableConv2d-104          [-1, 728, 19, 19]               0\n",
      "     BatchNorm2d-105          [-1, 728, 19, 19]           1,456\n",
      "            ReLU-106          [-1, 728, 19, 19]               0\n",
      "          Conv2d-107          [-1, 728, 19, 19]           6,552\n",
      "          Conv2d-108          [-1, 728, 19, 19]         529,984\n",
      " SeparableConv2d-109          [-1, 728, 19, 19]               0\n",
      "     BatchNorm2d-110          [-1, 728, 19, 19]           1,456\n",
      "           Block-111          [-1, 728, 19, 19]               0\n",
      "            ReLU-112          [-1, 728, 19, 19]               0\n",
      "          Conv2d-113          [-1, 728, 19, 19]           6,552\n",
      "          Conv2d-114          [-1, 728, 19, 19]         529,984\n",
      " SeparableConv2d-115          [-1, 728, 19, 19]               0\n",
      "     BatchNorm2d-116          [-1, 728, 19, 19]           1,456\n",
      "            ReLU-117          [-1, 728, 19, 19]               0\n",
      "          Conv2d-118          [-1, 728, 19, 19]           6,552\n",
      "          Conv2d-119          [-1, 728, 19, 19]         529,984\n",
      " SeparableConv2d-120          [-1, 728, 19, 19]               0\n",
      "     BatchNorm2d-121          [-1, 728, 19, 19]           1,456\n",
      "            ReLU-122          [-1, 728, 19, 19]               0\n",
      "          Conv2d-123          [-1, 728, 19, 19]           6,552\n",
      "          Conv2d-124          [-1, 728, 19, 19]         529,984\n",
      " SeparableConv2d-125          [-1, 728, 19, 19]               0\n",
      "     BatchNorm2d-126          [-1, 728, 19, 19]           1,456\n",
      "           Block-127          [-1, 728, 19, 19]               0\n",
      "            ReLU-128          [-1, 728, 19, 19]               0\n",
      "          Conv2d-129          [-1, 728, 19, 19]           6,552\n",
      "          Conv2d-130          [-1, 728, 19, 19]         529,984\n",
      " SeparableConv2d-131          [-1, 728, 19, 19]               0\n",
      "     BatchNorm2d-132          [-1, 728, 19, 19]           1,456\n",
      "            ReLU-133          [-1, 728, 19, 19]               0\n",
      "          Conv2d-134          [-1, 728, 19, 19]           6,552\n",
      "          Conv2d-135          [-1, 728, 19, 19]         529,984\n",
      " SeparableConv2d-136          [-1, 728, 19, 19]               0\n",
      "     BatchNorm2d-137          [-1, 728, 19, 19]           1,456\n",
      "            ReLU-138          [-1, 728, 19, 19]               0\n",
      "          Conv2d-139          [-1, 728, 19, 19]           6,552\n",
      "          Conv2d-140          [-1, 728, 19, 19]         529,984\n",
      " SeparableConv2d-141          [-1, 728, 19, 19]               0\n",
      "     BatchNorm2d-142          [-1, 728, 19, 19]           1,456\n",
      "           Block-143          [-1, 728, 19, 19]               0\n",
      "            ReLU-144          [-1, 728, 19, 19]               0\n",
      "          Conv2d-145          [-1, 728, 19, 19]           6,552\n",
      "          Conv2d-146          [-1, 728, 19, 19]         529,984\n",
      " SeparableConv2d-147          [-1, 728, 19, 19]               0\n",
      "     BatchNorm2d-148          [-1, 728, 19, 19]           1,456\n",
      "            ReLU-149          [-1, 728, 19, 19]               0\n",
      "          Conv2d-150          [-1, 728, 19, 19]           6,552\n",
      "          Conv2d-151          [-1, 728, 19, 19]         529,984\n",
      " SeparableConv2d-152          [-1, 728, 19, 19]               0\n",
      "     BatchNorm2d-153          [-1, 728, 19, 19]           1,456\n",
      "            ReLU-154          [-1, 728, 19, 19]               0\n",
      "          Conv2d-155          [-1, 728, 19, 19]           6,552\n",
      "          Conv2d-156          [-1, 728, 19, 19]         529,984\n",
      " SeparableConv2d-157          [-1, 728, 19, 19]               0\n",
      "     BatchNorm2d-158          [-1, 728, 19, 19]           1,456\n",
      "           Block-159          [-1, 728, 19, 19]               0\n",
      "            ReLU-160          [-1, 728, 19, 19]               0\n",
      "          Conv2d-161          [-1, 728, 19, 19]           6,552\n",
      "          Conv2d-162          [-1, 728, 19, 19]         529,984\n",
      " SeparableConv2d-163          [-1, 728, 19, 19]               0\n",
      "     BatchNorm2d-164          [-1, 728, 19, 19]           1,456\n",
      "            ReLU-165          [-1, 728, 19, 19]               0\n",
      "          Conv2d-166          [-1, 728, 19, 19]           6,552\n",
      "          Conv2d-167          [-1, 728, 19, 19]         529,984\n",
      " SeparableConv2d-168          [-1, 728, 19, 19]               0\n",
      "     BatchNorm2d-169          [-1, 728, 19, 19]           1,456\n",
      "            ReLU-170          [-1, 728, 19, 19]               0\n",
      "          Conv2d-171          [-1, 728, 19, 19]           6,552\n",
      "          Conv2d-172          [-1, 728, 19, 19]         529,984\n",
      " SeparableConv2d-173          [-1, 728, 19, 19]               0\n",
      "     BatchNorm2d-174          [-1, 728, 19, 19]           1,456\n",
      "           Block-175          [-1, 728, 19, 19]               0\n",
      "            ReLU-176          [-1, 728, 19, 19]               0\n",
      "          Conv2d-177          [-1, 728, 19, 19]           6,552\n",
      "          Conv2d-178          [-1, 728, 19, 19]         529,984\n",
      " SeparableConv2d-179          [-1, 728, 19, 19]               0\n",
      "     BatchNorm2d-180          [-1, 728, 19, 19]           1,456\n",
      "            ReLU-181          [-1, 728, 19, 19]               0\n",
      "          Conv2d-182          [-1, 728, 19, 19]           6,552\n",
      "          Conv2d-183         [-1, 1024, 19, 19]         745,472\n",
      " SeparableConv2d-184         [-1, 1024, 19, 19]               0\n",
      "     BatchNorm2d-185         [-1, 1024, 19, 19]           2,048\n",
      "       MaxPool2d-186         [-1, 1024, 10, 10]               0\n",
      "          Conv2d-187         [-1, 1024, 10, 10]         745,472\n",
      "     BatchNorm2d-188         [-1, 1024, 10, 10]           2,048\n",
      "           Block-189         [-1, 1024, 10, 10]               0\n",
      "          Conv2d-190         [-1, 1024, 10, 10]           9,216\n",
      "          Conv2d-191         [-1, 1536, 10, 10]       1,572,864\n",
      " SeparableConv2d-192         [-1, 1536, 10, 10]               0\n",
      "     BatchNorm2d-193         [-1, 1536, 10, 10]           3,072\n",
      "            ReLU-194         [-1, 1536, 10, 10]               0\n",
      "          Conv2d-195         [-1, 1536, 10, 10]          13,824\n",
      "          Conv2d-196         [-1, 2048, 10, 10]       3,145,728\n",
      " SeparableConv2d-197         [-1, 2048, 10, 10]               0\n",
      "     BatchNorm2d-198         [-1, 2048, 10, 10]           4,096\n",
      "            ReLU-199         [-1, 2048, 10, 10]               0\n",
      "AdaptiveAvgPool2d-200           [-1, 2048, 1, 1]               0\n",
      "         Flatten-201                 [-1, 2048]               0\n",
      "SelectAdaptivePool2d-202                 [-1, 2048]               0\n",
      "          Linear-203                    [-1, 5]          10,245\n",
      "        Xception-204                    [-1, 5]               0\n",
      "================================================================\n",
      "Total params: 20,817,197\n",
      "Trainable params: 20,817,197\n",
      "Non-trainable params: 0\n",
      "----------------------------------------------------------------\n",
      "Input size (MB): 1.02\n",
      "Forward/backward pass size (MB): 725.03\n",
      "Params size (MB): 79.41\n",
      "Estimated Total Size (MB): 805.47\n",
      "----------------------------------------------------------------\n"
     ]
    }
   ],
   "source": [
    "# Display model summary\n",
    "summary(model, (3, 299, 299))"
   ]
  },
  {
   "cell_type": "code",
   "execution_count": 13,
   "id": "958ed7ee-98b8-420d-b429-9d3f71168820",
   "metadata": {},
   "outputs": [],
   "source": [
    "# Define loss function and optimizer\n",
    "criterion = nn.CrossEntropyLoss()\n",
    "optimizer = optim.Adam(model.parameters(), lr=0.00001)"
   ]
  },
  {
   "cell_type": "code",
   "execution_count": 14,
   "id": "a58ad531-65a4-49cb-b088-fc2b77ba5976",
   "metadata": {},
   "outputs": [],
   "source": [
    "# Training function\n",
    "def train(model, train_loader, criterion, optimizer, device):\n",
    "    model.train()  # Set the model to training mode\n",
    "    running_loss = 0.0\n",
    "    correct = 0\n",
    "    total = 0\n",
    "\n",
    "    for images, labels in tqdm(train_loader, desc= \"Training\", leave = False):\n",
    "        images, labels = images.to(device), labels.to(device)  # Move to device\n",
    "\n",
    "        optimizer.zero_grad()  # Zero the gradients\n",
    "        outputs = model(images)  # Forward pass\n",
    "        loss = criterion(outputs, labels)  # Compute loss\n",
    "        loss.backward()  # Backward pass\n",
    "        optimizer.step()  # Update weights\n",
    "\n",
    "        running_loss += loss.item()  # Accumulate loss\n",
    "\n",
    "        # Calculate training accuracy\n",
    "        _, predicted = torch.max(outputs.data, 1)  # Get predicted classes\n",
    "        total += labels.size(0)\n",
    "        correct += (predicted == labels).sum().item()  # Count correct predictions\n",
    "\n",
    "    train_loss = running_loss / len(train_loader)  # Average loss\n",
    "    train_accuracy = 100*correct / total  # Accuracy\n",
    "    return train_loss, train_accuracy"
   ]
  },
  {
   "cell_type": "code",
   "execution_count": 15,
   "id": "480080ac-cfcf-437e-bb4f-ebc64eaedd46",
   "metadata": {},
   "outputs": [],
   "source": [
    "# Validation function\n",
    "def validate(model, val_loader, criterion, device):\n",
    "    model.eval()\n",
    "    val_loss = 0.0\n",
    "    correct = 0\n",
    "    total = 0\n",
    "    with torch.no_grad():\n",
    "        for images, labels in val_loader:\n",
    "            images, labels = images.to(device), labels.to(device)\n",
    "            outputs = model(images)\n",
    "            loss = criterion(outputs, labels)\n",
    "            val_loss += loss.item()\n",
    "\n",
    "            _, predicted = torch.max(outputs.data, 1)\n",
    "            total += labels.size(0)\n",
    "            correct += (predicted == labels).sum().item()\n",
    "\n",
    "    avg_val_loss = val_loss / len(val_loader)\n",
    "    accuracy = 100 * correct / total\n",
    "    return avg_val_loss, accuracy"
   ]
  },
  {
   "cell_type": "code",
   "execution_count": 16,
   "id": "e24b81c3-ac06-4868-b1f4-0e6a562ed23b",
   "metadata": {},
   "outputs": [],
   "source": [
    "def train_and_evaluate(model, train_loader, val_loader, criterion, optimizer, num_epochs, device, patience=5):\n",
    "    # Store losses and accuracies\n",
    "    train_losses = []\n",
    "    val_losses = []\n",
    "    val_accuracies = []\n",
    "    train_accuracies = []  # To store training accuracy\n",
    "\n",
    "    best_val_accuracy = 0\n",
    "    epochs_without_improvement = 0\n",
    "\n",
    "    for epoch in range(num_epochs):\n",
    "        # Train the model\n",
    "        train_loss, train_accuracy = train(model, train_loader, criterion, optimizer, device)\n",
    "        \n",
    "        # Validate the model\n",
    "        val_loss, val_accuracy = validate(model, val_loader, criterion, device)\n",
    "\n",
    "        # Append to lists for plotting later\n",
    "        train_losses.append(train_loss)\n",
    "        val_losses.append(val_loss)\n",
    "        val_accuracies.append(val_accuracy)\n",
    "        train_accuracies.append(train_accuracy)  # Store training accuracy\n",
    "\n",
    "        # Print training and validation results\n",
    "        print(f\"Epoch {epoch + 1}/{num_epochs} - \"\n",
    "              f\"Training Accuracy: {train_accuracy:.4f} - \"\n",
    "              f\"Training Loss: {train_loss:.4f} - \"\n",
    "              f\"Validation Accuracy: {val_accuracy:.4f} - \"\n",
    "              f\"Validation Loss: {val_loss:.4f}\")\n",
    "\n",
    "        # Check if we have a new best validation accuracy\n",
    "        if val_accuracy > best_val_accuracy:\n",
    "            best_val_accuracy = val_accuracy\n",
    "            epochs_without_improvement = 0\n",
    "            # Save the best model state\n",
    "            torch.save(model.state_dict(), 'best_crack_detection_model.pth')\n",
    "            print(f\"Best model saved with accuracy: {best_val_accuracy:.4f}%\")\n",
    "        else:\n",
    "            epochs_without_improvement += 1\n",
    "        \n",
    "        # Check for early stopping\n",
    "        if epochs_without_improvement >= patience:\n",
    "            print(f\"Early stopping triggered. Stopping training at epoch {epoch + 1}.\")\n",
    "            break\n",
    "\n",
    "    return train_losses, val_losses, train_accuracies, val_accuracies\n"
   ]
  },
  {
   "cell_type": "code",
   "execution_count": 17,
   "id": "387705f3-949e-4747-abe3-d9253c42aa17",
   "metadata": {},
   "outputs": [
    {
     "name": "stderr",
     "output_type": "stream",
     "text": [
      "                                                                                                                       \r"
     ]
    },
    {
     "name": "stdout",
     "output_type": "stream",
     "text": [
      "Epoch 1/40 - Training Accuracy: 73.6800 - Training Loss: 0.9320 - Validation Accuracy: 90.4000 - Validation Loss: 0.4268\n",
      "Best model saved with accuracy: 90.4000%\n"
     ]
    },
    {
     "name": "stderr",
     "output_type": "stream",
     "text": [
      "                                                                                                                       \r"
     ]
    },
    {
     "name": "stdout",
     "output_type": "stream",
     "text": [
      "Epoch 2/40 - Training Accuracy: 93.0300 - Training Loss: 0.2792 - Validation Accuracy: 96.9600 - Validation Loss: 0.1453\n",
      "Best model saved with accuracy: 96.9600%\n"
     ]
    },
    {
     "name": "stderr",
     "output_type": "stream",
     "text": [
      "                                                                                                                       \r"
     ]
    },
    {
     "name": "stdout",
     "output_type": "stream",
     "text": [
      "Epoch 3/40 - Training Accuracy: 95.3900 - Training Loss: 0.1601 - Validation Accuracy: 97.2000 - Validation Loss: 0.1051\n",
      "Best model saved with accuracy: 97.2000%\n"
     ]
    },
    {
     "name": "stderr",
     "output_type": "stream",
     "text": [
      "                                                                                                                       \r"
     ]
    },
    {
     "name": "stdout",
     "output_type": "stream",
     "text": [
      "Epoch 4/40 - Training Accuracy: 96.2300 - Training Loss: 0.1253 - Validation Accuracy: 98.0800 - Validation Loss: 0.0829\n",
      "Best model saved with accuracy: 98.0800%\n"
     ]
    },
    {
     "name": "stderr",
     "output_type": "stream",
     "text": [
      "                                                                                                                       \r"
     ]
    },
    {
     "name": "stdout",
     "output_type": "stream",
     "text": [
      "Epoch 5/40 - Training Accuracy: 97.1800 - Training Loss: 0.1007 - Validation Accuracy: 98.1600 - Validation Loss: 0.0796\n",
      "Best model saved with accuracy: 98.1600%\n"
     ]
    },
    {
     "name": "stderr",
     "output_type": "stream",
     "text": [
      "                                                                                                                       \r"
     ]
    },
    {
     "name": "stdout",
     "output_type": "stream",
     "text": [
      "Epoch 6/40 - Training Accuracy: 97.5000 - Training Loss: 0.0857 - Validation Accuracy: 98.4000 - Validation Loss: 0.0445\n",
      "Best model saved with accuracy: 98.4000%\n"
     ]
    },
    {
     "name": "stderr",
     "output_type": "stream",
     "text": [
      "                                                                                                                       \r"
     ]
    },
    {
     "name": "stdout",
     "output_type": "stream",
     "text": [
      "Epoch 7/40 - Training Accuracy: 97.6900 - Training Loss: 0.0813 - Validation Accuracy: 98.5600 - Validation Loss: 0.0449\n",
      "Best model saved with accuracy: 98.5600%\n"
     ]
    },
    {
     "name": "stderr",
     "output_type": "stream",
     "text": [
      "                                                                                                                       \r"
     ]
    },
    {
     "name": "stdout",
     "output_type": "stream",
     "text": [
      "Epoch 8/40 - Training Accuracy: 98.0400 - Training Loss: 0.0662 - Validation Accuracy: 98.7200 - Validation Loss: 0.0395\n",
      "Best model saved with accuracy: 98.7200%\n"
     ]
    },
    {
     "name": "stderr",
     "output_type": "stream",
     "text": [
      "                                                                                                                       \r"
     ]
    },
    {
     "name": "stdout",
     "output_type": "stream",
     "text": [
      "Epoch 9/40 - Training Accuracy: 98.0000 - Training Loss: 0.0630 - Validation Accuracy: 98.8800 - Validation Loss: 0.0398\n",
      "Best model saved with accuracy: 98.8800%\n"
     ]
    },
    {
     "name": "stderr",
     "output_type": "stream",
     "text": [
      "                                                                                                                       \r"
     ]
    },
    {
     "name": "stdout",
     "output_type": "stream",
     "text": [
      "Epoch 10/40 - Training Accuracy: 98.4900 - Training Loss: 0.0533 - Validation Accuracy: 98.8800 - Validation Loss: 0.0325\n"
     ]
    },
    {
     "name": "stderr",
     "output_type": "stream",
     "text": [
      "                                                                                                                       \r"
     ]
    },
    {
     "name": "stdout",
     "output_type": "stream",
     "text": [
      "Epoch 11/40 - Training Accuracy: 98.3000 - Training Loss: 0.0561 - Validation Accuracy: 98.4000 - Validation Loss: 0.0553\n"
     ]
    },
    {
     "name": "stderr",
     "output_type": "stream",
     "text": [
      "                                                                                                                       \r"
     ]
    },
    {
     "name": "stdout",
     "output_type": "stream",
     "text": [
      "Epoch 12/40 - Training Accuracy: 98.4400 - Training Loss: 0.0511 - Validation Accuracy: 98.4800 - Validation Loss: 0.0395\n"
     ]
    },
    {
     "name": "stderr",
     "output_type": "stream",
     "text": [
      "                                                                                                                       \r"
     ]
    },
    {
     "name": "stdout",
     "output_type": "stream",
     "text": [
      "Epoch 13/40 - Training Accuracy: 98.5800 - Training Loss: 0.0467 - Validation Accuracy: 98.9600 - Validation Loss: 0.0348\n",
      "Best model saved with accuracy: 98.9600%\n"
     ]
    },
    {
     "name": "stderr",
     "output_type": "stream",
     "text": [
      "                                                                                                                       \r"
     ]
    },
    {
     "name": "stdout",
     "output_type": "stream",
     "text": [
      "Epoch 14/40 - Training Accuracy: 98.6100 - Training Loss: 0.0425 - Validation Accuracy: 98.3200 - Validation Loss: 0.0590\n"
     ]
    },
    {
     "name": "stderr",
     "output_type": "stream",
     "text": [
      "                                                                                                                       \r"
     ]
    },
    {
     "name": "stdout",
     "output_type": "stream",
     "text": [
      "Epoch 15/40 - Training Accuracy: 98.8200 - Training Loss: 0.0387 - Validation Accuracy: 98.5600 - Validation Loss: 0.0413\n"
     ]
    },
    {
     "name": "stderr",
     "output_type": "stream",
     "text": [
      "                                                                                                                       \r"
     ]
    },
    {
     "name": "stdout",
     "output_type": "stream",
     "text": [
      "Epoch 16/40 - Training Accuracy: 98.8200 - Training Loss: 0.0395 - Validation Accuracy: 98.7200 - Validation Loss: 0.0390\n"
     ]
    },
    {
     "name": "stderr",
     "output_type": "stream",
     "text": [
      "                                                                                                                       \r"
     ]
    },
    {
     "name": "stdout",
     "output_type": "stream",
     "text": [
      "Epoch 17/40 - Training Accuracy: 99.0500 - Training Loss: 0.0304 - Validation Accuracy: 99.0400 - Validation Loss: 0.0268\n",
      "Best model saved with accuracy: 99.0400%\n"
     ]
    },
    {
     "name": "stderr",
     "output_type": "stream",
     "text": [
      "                                                                                                                       \r"
     ]
    },
    {
     "name": "stdout",
     "output_type": "stream",
     "text": [
      "Epoch 18/40 - Training Accuracy: 98.8400 - Training Loss: 0.0353 - Validation Accuracy: 99.3600 - Validation Loss: 0.0253\n",
      "Best model saved with accuracy: 99.3600%\n"
     ]
    },
    {
     "name": "stderr",
     "output_type": "stream",
     "text": [
      "                                                                                                                       \r"
     ]
    },
    {
     "name": "stdout",
     "output_type": "stream",
     "text": [
      "Epoch 19/40 - Training Accuracy: 99.0200 - Training Loss: 0.0308 - Validation Accuracy: 99.0400 - Validation Loss: 0.0313\n"
     ]
    },
    {
     "name": "stderr",
     "output_type": "stream",
     "text": [
      "                                                                                                                       \r"
     ]
    },
    {
     "name": "stdout",
     "output_type": "stream",
     "text": [
      "Epoch 20/40 - Training Accuracy: 98.9800 - Training Loss: 0.0341 - Validation Accuracy: 98.8000 - Validation Loss: 0.0454\n"
     ]
    },
    {
     "name": "stderr",
     "output_type": "stream",
     "text": [
      "                                                                                                                       \r"
     ]
    },
    {
     "name": "stdout",
     "output_type": "stream",
     "text": [
      "Epoch 21/40 - Training Accuracy: 99.1100 - Training Loss: 0.0282 - Validation Accuracy: 98.7200 - Validation Loss: 0.0694\n"
     ]
    },
    {
     "name": "stderr",
     "output_type": "stream",
     "text": [
      "                                                                                                                       \r"
     ]
    },
    {
     "name": "stdout",
     "output_type": "stream",
     "text": [
      "Epoch 22/40 - Training Accuracy: 98.9700 - Training Loss: 0.0292 - Validation Accuracy: 99.0400 - Validation Loss: 0.0379\n"
     ]
    },
    {
     "name": "stderr",
     "output_type": "stream",
     "text": [
      "                                                                                                                       \r"
     ]
    },
    {
     "name": "stdout",
     "output_type": "stream",
     "text": [
      "Epoch 23/40 - Training Accuracy: 99.3100 - Training Loss: 0.0243 - Validation Accuracy: 99.6000 - Validation Loss: 0.0174\n",
      "Best model saved with accuracy: 99.6000%\n"
     ]
    },
    {
     "name": "stderr",
     "output_type": "stream",
     "text": [
      "                                                                                                                       \r"
     ]
    },
    {
     "name": "stdout",
     "output_type": "stream",
     "text": [
      "Epoch 24/40 - Training Accuracy: 99.0800 - Training Loss: 0.0278 - Validation Accuracy: 99.2800 - Validation Loss: 0.0369\n"
     ]
    },
    {
     "name": "stderr",
     "output_type": "stream",
     "text": [
      "                                                                                                                       \r"
     ]
    },
    {
     "name": "stdout",
     "output_type": "stream",
     "text": [
      "Epoch 25/40 - Training Accuracy: 99.2500 - Training Loss: 0.0256 - Validation Accuracy: 99.1200 - Validation Loss: 0.0425\n"
     ]
    },
    {
     "name": "stderr",
     "output_type": "stream",
     "text": [
      "                                                                                                                       \r"
     ]
    },
    {
     "name": "stdout",
     "output_type": "stream",
     "text": [
      "Epoch 26/40 - Training Accuracy: 99.3600 - Training Loss: 0.0204 - Validation Accuracy: 99.3600 - Validation Loss: 0.0243\n"
     ]
    },
    {
     "name": "stderr",
     "output_type": "stream",
     "text": [
      "                                                                                                                       \r"
     ]
    },
    {
     "name": "stdout",
     "output_type": "stream",
     "text": [
      "Epoch 27/40 - Training Accuracy: 99.3400 - Training Loss: 0.0247 - Validation Accuracy: 99.2800 - Validation Loss: 0.0263\n"
     ]
    },
    {
     "name": "stderr",
     "output_type": "stream",
     "text": [
      "                                                                                                                       \r"
     ]
    },
    {
     "name": "stdout",
     "output_type": "stream",
     "text": [
      "Epoch 28/40 - Training Accuracy: 99.4000 - Training Loss: 0.0202 - Validation Accuracy: 98.8800 - Validation Loss: 0.0731\n",
      "Early stopping triggered. Stopping training at epoch 28.\n"
     ]
    }
   ],
   "source": [
    "# Train and evaluate the model\n",
    "num_epochs = 40\n",
    "train_losses, val_losses, train_accuracies, val_accuracies = train_and_evaluate(model, train_loader, val_loader, criterion, optimizer, num_epochs, device)"
   ]
  },
  {
   "cell_type": "code",
   "execution_count": 18,
   "id": "8975a57d-55f4-4132-ab82-49d7838de5fe",
   "metadata": {},
   "outputs": [
    {
     "name": "stdout",
     "output_type": "stream",
     "text": [
      "Test Loss: 0.0576, Test Accuracy: 98.72%\n"
     ]
    }
   ],
   "source": [
    "# Evaluate on test set\n",
    "test_loss, test_accuracy = validate(model, test_loader, criterion, device)\n",
    "print(f\"Test Loss: {test_loss:.4f}, Test Accuracy: {test_accuracy:.2f}%\")"
   ]
  },
  {
   "cell_type": "code",
   "execution_count": 19,
   "id": "e912d819-0490-4f49-abfe-d760d17b73e4",
   "metadata": {},
   "outputs": [
    {
     "name": "stdout",
     "output_type": "stream",
     "text": [
      "Training results saved to Xception_training_results.csv\n"
     ]
    }
   ],
   "source": [
    "# Save accuracy and loss to a CSV file\n",
    "with open('Xception_training_results.csv', 'w', newline='') as f:\n",
    "    writer = csv.writer(f)\n",
    "    writer.writerow([\"Epoch\", \"Train Loss\", \"Val Loss\", \"Train Acc\", \"Val Acc\"])\n",
    "    for epoch in range(len(train_losses)):  # Use len(train_losses) instead of num_epochs\n",
    "        writer.writerow([epoch+1, train_losses[epoch], val_losses[epoch], train_accuracies[epoch], val_accuracies[epoch]])\n",
    "\n",
    "print(\"Training results saved to Xception_training_results.csv\")"
   ]
  },
  {
   "cell_type": "code",
   "execution_count": 20,
   "id": "ea7cdbf5-f6e9-4b57-b1fb-4b7d63550d7f",
   "metadata": {},
   "outputs": [
    {
     "name": "stdout",
     "output_type": "stream",
     "text": [
      "Model training complete and saved as 'xception_rice_model.pth'.\n"
     ]
    }
   ],
   "source": [
    "# Optionally save the final model (this is optional since best model is already saved)\n",
    "torch.save(model.state_dict(), 'xception_rice_model.pth')\n",
    "print(\"Model training complete and saved as 'xception_rice_model.pth'.\")"
   ]
  },
  {
   "cell_type": "code",
   "execution_count": 21,
   "id": "047688df-35a7-4b46-829d-6ad4234e20df",
   "metadata": {},
   "outputs": [
    {
     "name": "stdout",
     "output_type": "stream",
     "text": [
      "Training curves saved to xception_training_curves.png\n"
     ]
    },
    {
     "data": {
      "image/png": "[encoded data removed]",
      "text/plain": [
       "<Figure size 1200x500 with 2 Axes>"
      ]
     },
     "metadata": {},
     "output_type": "display_data"
    }
   ],
   "source": [
    "# Plotting accuracy and loss curves\n",
    "def plot_curves(train_losses, val_losses, val_accuracies, train_accuracies, save_path=\"xception_training_curves.png\"):\n",
    "    epochs = range(1, len(train_losses) + 1)\n",
    "    \n",
    "    plt.figure(figsize=(12, 5))\n",
    "\n",
    "    # Plot Loss Curves\n",
    "    plt.subplot(1, 2, 1)\n",
    "    plt.plot(epochs, train_losses, 'bo-', label='Training Loss')\n",
    "    plt.plot(epochs, val_losses, 'ro-', label='Validation Loss')\n",
    "    plt.title('Loss Curves')\n",
    "    plt.xlabel('Epochs')\n",
    "    plt.ylabel('Loss')\n",
    "    plt.legend()\n",
    "\n",
    "    # Plot Accuracy Curves\n",
    "    plt.subplot(1, 2, 2)\n",
    "    plt.plot(epochs, val_accuracies, 'go-', label='Validation Accuracy')\n",
    "    plt.plot(epochs, train_accuracies, 'ro-', label='Train Accuracy')\n",
    "    plt.title('Accuracy Curve')\n",
    "    plt.xlabel('Epochs')\n",
    "    plt.ylabel('Accuracy (%)')\n",
    "    plt.legend()\n",
    "\n",
    "    plt.tight_layout()\n",
    "    plt.savefig(save_path)\n",
    "    print(f\"Training curves saved to {save_path}\")\n",
    "    plt.show()\n",
    "\n",
    "# Call the function to plot the curves\n",
    "plot_curves(train_losses, val_losses, val_accuracies, train_accuracies, save_path=\"xception_training_curves.png\")"
   ]
  },
  {
   "cell_type": "code",
   "execution_count": null,
   "id": "48cbb19b-4461-4666-98f0-cd1069742838",
   "metadata": {},
   "outputs": [],
   "source": []
  },
  {
   "cell_type": "code",
   "execution_count": null,
   "id": "18812dc2-924a-4316-aeae-1e96fa203a9d",
   "metadata": {},
   "outputs": [],
   "source": []
  }
 ],
 "metadata": {
  "kernelspec": {
   "display_name": "Python 3 (ipykernel)",
   "language": "python",
   "name": "python3"
  },
  "language_info": {
   "codemirror_mode": {
    "name": "ipython",
    "version": 3
   },
   "file_extension": ".py",
   "mimetype": "text/x-python",
   "name": "python",
   "nbconvert_exporter": "python",
   "pygments_lexer": "ipython3",
   "version": "3.8.20"
  }
 },
 "nbformat": 4,
 "nbformat_minor": 5
}
