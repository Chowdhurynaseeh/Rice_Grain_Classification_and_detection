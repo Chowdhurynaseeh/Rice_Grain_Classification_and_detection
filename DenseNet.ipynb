{
 "cells": [
  {
   "cell_type": "code",
   "execution_count": 23,
   "id": "4e6cabf9-e3d2-47da-92be-a23215de193e",
   "metadata": {},
   "outputs": [
    {
     "name": "stdout",
     "output_type": "stream",
     "text": [
      "Requirement already satisfied: torchinfo in c:\\users\\administrator\\anaconda3\\envs\\torch\\lib\\site-packages (1.8.0)\n"
     ]
    }
   ],
   "source": [
    "!pip install torchinfo"
   ]
  },
  {
   "cell_type": "code",
   "execution_count": 24,
   "id": "deeb4201-7f6a-4667-a015-4103c95f3a17",
   "metadata": {},
   "outputs": [],
   "source": [
    "import os\n",
    "import torch\n",
    "import torch.nn as nn\n",
    "import torch.optim as optim\n",
    "from torch.utils.data import DataLoader\n",
    "from torchvision import datasets, transforms, models\n",
    "import matplotlib.pyplot as plt\n",
    "from tqdm import tqdm\n",
    "from torchsummary import summary\n",
    "from sklearn.metrics import precision_score, recall_score, f1_score, accuracy_score, confusion_matrix, roc_curve, auc, average_precision_score, precision_recall_curve\n",
    "import pandas as pd\n",
    "import numpy as np\n",
    "import seaborn as sns\n",
    "from sklearn.preprocessing import label_binarize\n",
    "from tabulate import tabulate\n",
    "from torchinfo import summary\n",
    "import csv"
   ]
  },
  {
   "cell_type": "code",
   "execution_count": 25,
   "id": "4c2797d9-cf8b-464d-9d66-80565df3a3bf",
   "metadata": {},
   "outputs": [
    {
     "name": "stdout",
     "output_type": "stream",
     "text": [
      "Using device: cuda\n"
     ]
    }
   ],
   "source": [
    "# Check if GPU is available\n",
    "device = torch.device(\"cuda\" if torch.cuda.is_available() else \"cpu\")\n",
    "print(f\"Using device: {device}\")"
   ]
  },
  {
   "cell_type": "code",
   "execution_count": 26,
   "id": "cc46d8a3-9e80-453b-ae75-ea27b9e34262",
   "metadata": {},
   "outputs": [],
   "source": [
    "# Set paths for dataset splits\n",
    "train_dir = 'I:/RICE/final_rice_data/train'\n",
    "val_dir = 'I:/RICE/final_rice_data/val'\n",
    "test_dir = 'I:/RICE/final_rice_data/test'"
   ]
  },
  {
   "cell_type": "code",
   "execution_count": 27,
   "id": "6938e02c-1763-4329-afd9-66fa335f1223",
   "metadata": {},
   "outputs": [
    {
     "name": "stdout",
     "output_type": "stream",
     "text": [
      "Total number of images in the training set: 10000\n",
      "Total number of images in the validation set: 1250\n",
      "Total number of images in the test set: 1250\n"
     ]
    }
   ],
   "source": [
    "# Function to count images in a directory\n",
    "def count_images_in_directory(directory):\n",
    "    count = 0\n",
    "    for _, _, files in os.walk(directory):\n",
    "        count += len([f for f in files if f.lower().endswith(('.png', '.jpg', '.jpeg'))])\n",
    "    return count\n",
    "\n",
    "# Count images in each directory\n",
    "train_count = count_images_in_directory(train_dir)\n",
    "val_count = count_images_in_directory(val_dir)\n",
    "test_count = count_images_in_directory(test_dir)\n",
    "\n",
    "# Display the counts\n",
    "print(f\"Total number of images in the training set: {train_count}\")\n",
    "print(f\"Total number of images in the validation set: {val_count}\")\n",
    "print(f\"Total number of images in the test set: {test_count}\")"
   ]
  },
  {
   "cell_type": "code",
   "execution_count": 28,
   "id": "ac71e9a0-d848-4542-9678-83174969a1fe",
   "metadata": {},
   "outputs": [],
   "source": [
    "# Data augmentation and normalization for training\n",
    "train_transforms = transforms.Compose([\n",
    "    transforms.Resize((224, 224)),          # Resize images\n",
    "    transforms.RandomHorizontalFlip(),        # Random horizontal flip\n",
    "    transforms.RandomRotation(20),            # Random rotation\n",
    "    transforms.ToTensor(),                    # Convert image to tensor\n",
    "    transforms.Normalize(mean=[0.485, 0.456, 0.406], std=[0.229, 0.224, 0.225]), # Normalize\n",
    "])"
   ]
  },
  {
   "cell_type": "code",
   "execution_count": 29,
   "id": "a9197404-eeb1-43a6-a009-36cf395f0412",
   "metadata": {},
   "outputs": [],
   "source": [
    "# Normalization for validation and test\n",
    "val_test_transforms = transforms.Compose([\n",
    "    transforms.Resize((224, 224)), \n",
    "    transforms.ToTensor(), \n",
    "    transforms.Normalize(mean=[0.485, 0.456, 0.406], std=[0.229, 0.224, 0.225]),\n",
    "])"
   ]
  },
  {
   "cell_type": "code",
   "execution_count": 30,
   "id": "181161d1-7af4-4e18-a990-a520121e3908",
   "metadata": {},
   "outputs": [],
   "source": [
    "# Load datasets\n",
    "train_dataset = datasets.ImageFolder(root=train_dir, transform=train_transforms)\n",
    "val_dataset = datasets.ImageFolder(root=val_dir, transform=val_test_transforms)\n",
    "test_dataset = datasets.ImageFolder(root=test_dir, transform=val_test_transforms)"
   ]
  },
  {
   "cell_type": "code",
   "execution_count": 31,
   "id": "a09897f2-7510-45ea-9df0-10e899f5d774",
   "metadata": {},
   "outputs": [],
   "source": [
    "# Data loaders\n",
    "train_loader = DataLoader(train_dataset, batch_size=32, shuffle=True)\n",
    "val_loader = DataLoader(val_dataset, batch_size=32, shuffle=False)\n",
    "test_loader = DataLoader(test_dataset, batch_size=32, shuffle=False)"
   ]
  },
  {
   "cell_type": "code",
   "execution_count": 32,
   "id": "d47971f6-1579-439e-94d0-72189897ac2d",
   "metadata": {},
   "outputs": [],
   "source": [
    "# Define the DenseNet model architecture\n",
    "class DenseNetModel(nn.Module):\n",
    "    def __init__(self, num_classes):\n",
    "        super(DenseNetModel, self).__init__()\n",
    "        self.densenet = models.densenet121(pretrained=True)  # Load DenseNet-121 with pretrained weights\n",
    "        self.densenet.classifier = nn.Linear(self.densenet.classifier.in_features, num_classes)  # Modify the classifier\n",
    "\n",
    "    def forward(self, x):\n",
    "        return self.densenet(x)\n",
    "\n",
    "num_classes = 5  # Number of classes\n",
    "device = torch.device(\"cuda\" if torch.cuda.is_available() else \"cpu\")\n",
    "model = DenseNetModel(num_classes).to(device)"
   ]
  },
  {
   "cell_type": "code",
   "execution_count": 33,
   "id": "c42d193e-a76f-4c39-a51e-e960a6ac7918",
   "metadata": {},
   "outputs": [
    {
     "data": {
      "text/plain": [
       "===============================================================================================\n",
       "Layer (type:depth-idx)                        Output Shape              Param #\n",
       "===============================================================================================\n",
       "DenseNetModel                                 [1, 5]                    --\n",
       "├─DenseNet: 1-1                               [1, 5]                    --\n",
       "│    └─Sequential: 2-1                        [1, 1024, 7, 7]           --\n",
       "│    │    └─Conv2d: 3-1                       [1, 64, 112, 112]         9,408\n",
       "│    │    └─BatchNorm2d: 3-2                  [1, 64, 112, 112]         128\n",
       "│    │    └─ReLU: 3-3                         [1, 64, 112, 112]         --\n",
       "│    │    └─MaxPool2d: 3-4                    [1, 64, 56, 56]           --\n",
       "│    │    └─_DenseBlock: 3-5                  [1, 256, 56, 56]          335,040\n",
       "│    │    └─_Transition: 3-6                  [1, 128, 28, 28]          33,280\n",
       "│    │    └─_DenseBlock: 3-7                  [1, 512, 28, 28]          919,680\n",
       "│    │    └─_Transition: 3-8                  [1, 256, 14, 14]          132,096\n",
       "│    │    └─_DenseBlock: 3-9                  [1, 1024, 14, 14]         2,837,760\n",
       "│    │    └─_Transition: 3-10                 [1, 512, 7, 7]            526,336\n",
       "│    │    └─_DenseBlock: 3-11                 [1, 1024, 7, 7]           2,158,080\n",
       "│    │    └─BatchNorm2d: 3-12                 [1, 1024, 7, 7]           2,048\n",
       "│    └─Linear: 2-2                            [1, 5]                    5,125\n",
       "===============================================================================================\n",
       "Total params: 6,958,981\n",
       "Trainable params: 6,958,981\n",
       "Non-trainable params: 0\n",
       "Total mult-adds (G): 2.83\n",
       "===============================================================================================\n",
       "Input size (MB): 0.60\n",
       "Forward/backward pass size (MB): 180.53\n",
       "Params size (MB): 27.84\n",
       "Estimated Total Size (MB): 208.97\n",
       "==============================================================================================="
      ]
     },
     "execution_count": 33,
     "metadata": {},
     "output_type": "execute_result"
    }
   ],
   "source": [
    "# Display model summary\n",
    "summary(model, (1, 3, 224, 224))"
   ]
  },
  {
   "cell_type": "code",
   "execution_count": 34,
   "id": "d2bd06e7-0848-42c3-aaec-9b568b6bfd60",
   "metadata": {},
   "outputs": [],
   "source": [
    "# Define loss function and optimizer\n",
    "criterion = nn.CrossEntropyLoss()\n",
    "optimizer = optim.Adam(model.parameters(), lr=0.000001)"
   ]
  },
  {
   "cell_type": "code",
   "execution_count": 35,
   "id": "ee6e4c5c-8214-431b-a3b5-25a5615c9823",
   "metadata": {},
   "outputs": [],
   "source": [
    "# Training function\n",
    "def train(model, train_loader, criterion, optimizer, device):\n",
    "    model.train()  # Set the model to training mode\n",
    "    running_loss = 0.0\n",
    "    correct = 0\n",
    "    total = 0\n",
    "\n",
    "    for images, labels in tqdm(train_loader, desc= \"Training\", leave = False):\n",
    "        images, labels = images.to(device), labels.to(device)  # Move to device\n",
    "\n",
    "        optimizer.zero_grad()  # Zero the gradients\n",
    "        outputs = model(images)  # Forward pass\n",
    "        loss = criterion(outputs, labels)  # Compute loss\n",
    "        loss.backward()  # Backward pass\n",
    "        optimizer.step()  # Update weights\n",
    "\n",
    "        running_loss += loss.item()  # Accumulate loss\n",
    "\n",
    "        # Calculate training accuracy\n",
    "        _, predicted = torch.max(outputs.data, 1)  # Get predicted classes\n",
    "        total += labels.size(0)\n",
    "        correct += (predicted == labels).sum().item()  # Count correct predictions\n",
    "\n",
    "    train_loss = running_loss / len(train_loader)  # Average loss\n",
    "    train_accuracy = 100*correct / total  # Accuracy\n",
    "    return train_loss, train_accuracy\n"
   ]
  },
  {
   "cell_type": "code",
   "execution_count": 36,
   "id": "b94ad805-fed2-43bd-82d8-beb057fe9970",
   "metadata": {},
   "outputs": [],
   "source": [
    "# Validation function\n",
    "def validate(model, val_loader, criterion, device):\n",
    "    model.eval()\n",
    "    val_loss = 0.0\n",
    "    correct = 0\n",
    "    total = 0\n",
    "    with torch.no_grad():\n",
    "        for images, labels in val_loader:\n",
    "            images, labels = images.to(device), labels.to(device)\n",
    "            outputs = model(images)\n",
    "            loss = criterion(outputs, labels)\n",
    "            val_loss += loss.item()\n",
    "\n",
    "            _, predicted = torch.max(outputs.data, 1)\n",
    "            total += labels.size(0)\n",
    "            correct += (predicted == labels).sum().item()\n",
    "\n",
    "    avg_val_loss = val_loss / len(val_loader)\n",
    "    accuracy = 100 * correct / total\n",
    "    return avg_val_loss, accuracy"
   ]
  },
  {
   "cell_type": "code",
   "execution_count": 37,
   "id": "6ba631e4-35e7-44bc-89c5-fabfbb7278a3",
   "metadata": {},
   "outputs": [],
   "source": [
    "# Define a function to train and validate the model with early stopping\n",
    "def train_and_evaluate(model, train_loader, val_loader, criterion, optimizer, num_epochs, device, patience=5):\n",
    "    # Store losses and accuracies\n",
    "    train_losses = []\n",
    "    val_losses = []\n",
    "    val_accuracies = []\n",
    "    train_accuracies = []  # To store training accuracy\n",
    "\n",
    "    best_val_accuracy = 0\n",
    "    epochs_without_improvement = 0\n",
    "\n",
    "    for epoch in range(num_epochs):\n",
    "        # Train the model\n",
    "        train_loss, train_accuracy = train(model, train_loader, criterion, optimizer, device)\n",
    "        \n",
    "        # Validate the model\n",
    "        val_loss, val_accuracy = validate(model, val_loader, criterion, device)\n",
    "\n",
    "        # Append to lists for plotting later\n",
    "        train_losses.append(train_loss)\n",
    "        val_losses.append(val_loss)\n",
    "        val_accuracies.append(val_accuracy)\n",
    "        train_accuracies.append(train_accuracy)  # Store training accuracy\n",
    "\n",
    "        # Print training and validation results\n",
    "        print(f\"Epoch {epoch + 1}/{num_epochs} - \"\n",
    "              f\"Training Accuracy: {train_accuracy:.4f} - \"\n",
    "              f\"Training Loss: {train_loss:.4f} - \"\n",
    "              f\"Validation Accuracy: {val_accuracy:.4f} - \"\n",
    "              f\"Validation Loss: {val_loss:.4f}\")\n",
    "\n",
    "        # Check if we have a new best validation accuracy\n",
    "        if val_accuracy > best_val_accuracy:\n",
    "            best_val_accuracy = val_accuracy\n",
    "            epochs_without_improvement = 0\n",
    "            # Save the best model state\n",
    "            torch.save(model.state_dict(), 'best_crack_detection_model.pth')\n",
    "            print(f\"Best model saved with accuracy: {best_val_accuracy:.4f}%\")\n",
    "        else:\n",
    "            epochs_without_improvement += 1\n",
    "        \n",
    "        # Check for early stopping\n",
    "        if epochs_without_improvement >= patience:\n",
    "            print(f\"Early stopping triggered. Stopping training at epoch {epoch + 1}.\")\n",
    "            break\n",
    "\n",
    "    return train_losses, val_losses, train_accuracies, val_accuracies\n"
   ]
  },
  {
   "cell_type": "code",
   "execution_count": 38,
   "id": "cdcd7111-949c-48c5-8254-ed09623e0fff",
   "metadata": {},
   "outputs": [
    {
     "name": "stderr",
     "output_type": "stream",
     "text": [
      "                                                                                                                       \r"
     ]
    },
    {
     "name": "stdout",
     "output_type": "stream",
     "text": [
      "Epoch 1/40 - Training Accuracy: 35.1600 - Training Loss: 1.4603 - Validation Accuracy: 50.3200 - Validation Loss: 1.2931\n",
      "Best model saved with accuracy: 50.3200%\n"
     ]
    },
    {
     "name": "stderr",
     "output_type": "stream",
     "text": [
      "                                                                                                                       \r"
     ]
    },
    {
     "name": "stdout",
     "output_type": "stream",
     "text": [
      "Epoch 2/40 - Training Accuracy: 62.3900 - Training Loss: 1.1006 - Validation Accuracy: 69.3600 - Validation Loss: 0.9585\n",
      "Best model saved with accuracy: 69.3600%\n"
     ]
    },
    {
     "name": "stderr",
     "output_type": "stream",
     "text": [
      "                                                                                                                       \r"
     ]
    },
    {
     "name": "stdout",
     "output_type": "stream",
     "text": [
      "Epoch 3/40 - Training Accuracy: 77.5900 - Training Loss: 0.8311 - Validation Accuracy: 76.4800 - Validation Loss: 0.7371\n",
      "Best model saved with accuracy: 76.4800%\n"
     ]
    },
    {
     "name": "stderr",
     "output_type": "stream",
     "text": [
      "                                                                                                                       \r"
     ]
    },
    {
     "name": "stdout",
     "output_type": "stream",
     "text": [
      "Epoch 4/40 - Training Accuracy: 83.6500 - Training Loss: 0.6469 - Validation Accuracy: 87.8400 - Validation Loss: 0.5418\n",
      "Best model saved with accuracy: 87.8400%\n"
     ]
    },
    {
     "name": "stderr",
     "output_type": "stream",
     "text": [
      "                                                                                                                       \r"
     ]
    },
    {
     "name": "stdout",
     "output_type": "stream",
     "text": [
      "Epoch 5/40 - Training Accuracy: 87.9700 - Training Loss: 0.5139 - Validation Accuracy: 90.1600 - Validation Loss: 0.4356\n",
      "Best model saved with accuracy: 90.1600%\n"
     ]
    },
    {
     "name": "stderr",
     "output_type": "stream",
     "text": [
      "                                                                                                                       \r"
     ]
    },
    {
     "name": "stdout",
     "output_type": "stream",
     "text": [
      "Epoch 6/40 - Training Accuracy: 89.8900 - Training Loss: 0.4178 - Validation Accuracy: 92.0800 - Validation Loss: 0.3451\n",
      "Best model saved with accuracy: 92.0800%\n"
     ]
    },
    {
     "name": "stderr",
     "output_type": "stream",
     "text": [
      "                                                                                                                       \r"
     ]
    },
    {
     "name": "stdout",
     "output_type": "stream",
     "text": [
      "Epoch 7/40 - Training Accuracy: 90.9500 - Training Loss: 0.3499 - Validation Accuracy: 93.6000 - Validation Loss: 0.2768\n",
      "Best model saved with accuracy: 93.6000%\n"
     ]
    },
    {
     "name": "stderr",
     "output_type": "stream",
     "text": [
      "                                                                                                                       \r"
     ]
    },
    {
     "name": "stdout",
     "output_type": "stream",
     "text": [
      "Epoch 8/40 - Training Accuracy: 92.5800 - Training Loss: 0.2922 - Validation Accuracy: 93.9200 - Validation Loss: 0.2476\n",
      "Best model saved with accuracy: 93.9200%\n"
     ]
    },
    {
     "name": "stderr",
     "output_type": "stream",
     "text": [
      "                                                                                                                       \r"
     ]
    },
    {
     "name": "stdout",
     "output_type": "stream",
     "text": [
      "Epoch 9/40 - Training Accuracy: 93.2000 - Training Loss: 0.2575 - Validation Accuracy: 95.4400 - Validation Loss: 0.1983\n",
      "Best model saved with accuracy: 95.4400%\n"
     ]
    },
    {
     "name": "stderr",
     "output_type": "stream",
     "text": [
      "                                                                                                                       \r"
     ]
    },
    {
     "name": "stdout",
     "output_type": "stream",
     "text": [
      "Epoch 10/40 - Training Accuracy: 94.1800 - Training Loss: 0.2277 - Validation Accuracy: 96.1600 - Validation Loss: 0.1738\n",
      "Best model saved with accuracy: 96.1600%\n"
     ]
    },
    {
     "name": "stderr",
     "output_type": "stream",
     "text": [
      "                                                                                                                       \r"
     ]
    },
    {
     "name": "stdout",
     "output_type": "stream",
     "text": [
      "Epoch 11/40 - Training Accuracy: 94.7000 - Training Loss: 0.2011 - Validation Accuracy: 96.2400 - Validation Loss: 0.1532\n",
      "Best model saved with accuracy: 96.2400%\n"
     ]
    },
    {
     "name": "stderr",
     "output_type": "stream",
     "text": [
      "                                                                                                                       \r"
     ]
    },
    {
     "name": "stdout",
     "output_type": "stream",
     "text": [
      "Epoch 12/40 - Training Accuracy: 95.1600 - Training Loss: 0.1792 - Validation Accuracy: 97.0400 - Validation Loss: 0.1338\n",
      "Best model saved with accuracy: 97.0400%\n"
     ]
    },
    {
     "name": "stderr",
     "output_type": "stream",
     "text": [
      "                                                                                                                       \r"
     ]
    },
    {
     "name": "stdout",
     "output_type": "stream",
     "text": [
      "Epoch 13/40 - Training Accuracy: 95.6900 - Training Loss: 0.1584 - Validation Accuracy: 97.1200 - Validation Loss: 0.1273\n",
      "Best model saved with accuracy: 97.1200%\n"
     ]
    },
    {
     "name": "stderr",
     "output_type": "stream",
     "text": [
      "                                                                                                                       \r"
     ]
    },
    {
     "name": "stdout",
     "output_type": "stream",
     "text": [
      "Epoch 14/40 - Training Accuracy: 95.6800 - Training Loss: 0.1536 - Validation Accuracy: 96.6400 - Validation Loss: 0.1151\n"
     ]
    },
    {
     "name": "stderr",
     "output_type": "stream",
     "text": [
      "                                                                                                                       \r"
     ]
    },
    {
     "name": "stdout",
     "output_type": "stream",
     "text": [
      "Epoch 15/40 - Training Accuracy: 96.0800 - Training Loss: 0.1397 - Validation Accuracy: 97.8400 - Validation Loss: 0.1004\n",
      "Best model saved with accuracy: 97.8400%\n"
     ]
    },
    {
     "name": "stderr",
     "output_type": "stream",
     "text": [
      "                                                                                                                       \r"
     ]
    },
    {
     "name": "stdout",
     "output_type": "stream",
     "text": [
      "Epoch 16/40 - Training Accuracy: 96.2600 - Training Loss: 0.1333 - Validation Accuracy: 97.0400 - Validation Loss: 0.1063\n"
     ]
    },
    {
     "name": "stderr",
     "output_type": "stream",
     "text": [
      "                                                                                                                       \r"
     ]
    },
    {
     "name": "stdout",
     "output_type": "stream",
     "text": [
      "Epoch 17/40 - Training Accuracy: 96.6100 - Training Loss: 0.1244 - Validation Accuracy: 97.2800 - Validation Loss: 0.0977\n"
     ]
    },
    {
     "name": "stderr",
     "output_type": "stream",
     "text": [
      "                                                                                                                       \r"
     ]
    },
    {
     "name": "stdout",
     "output_type": "stream",
     "text": [
      "Epoch 18/40 - Training Accuracy: 96.5200 - Training Loss: 0.1258 - Validation Accuracy: 98.0800 - Validation Loss: 0.0807\n",
      "Best model saved with accuracy: 98.0800%\n"
     ]
    },
    {
     "name": "stderr",
     "output_type": "stream",
     "text": [
      "                                                                                                                       \r"
     ]
    },
    {
     "name": "stdout",
     "output_type": "stream",
     "text": [
      "Epoch 19/40 - Training Accuracy: 96.9600 - Training Loss: 0.1096 - Validation Accuracy: 97.6800 - Validation Loss: 0.0806\n"
     ]
    },
    {
     "name": "stderr",
     "output_type": "stream",
     "text": [
      "                                                                                                                       \r"
     ]
    },
    {
     "name": "stdout",
     "output_type": "stream",
     "text": [
      "Epoch 20/40 - Training Accuracy: 97.1400 - Training Loss: 0.1038 - Validation Accuracy: 98.0000 - Validation Loss: 0.0734\n"
     ]
    },
    {
     "name": "stderr",
     "output_type": "stream",
     "text": [
      "                                                                                                                       \r"
     ]
    },
    {
     "name": "stdout",
     "output_type": "stream",
     "text": [
      "Epoch 21/40 - Training Accuracy: 97.2100 - Training Loss: 0.0970 - Validation Accuracy: 98.3200 - Validation Loss: 0.0778\n",
      "Best model saved with accuracy: 98.3200%\n"
     ]
    },
    {
     "name": "stderr",
     "output_type": "stream",
     "text": [
      "                                                                                                                       \r"
     ]
    },
    {
     "name": "stdout",
     "output_type": "stream",
     "text": [
      "Epoch 22/40 - Training Accuracy: 97.2700 - Training Loss: 0.0971 - Validation Accuracy: 98.2400 - Validation Loss: 0.0652\n"
     ]
    },
    {
     "name": "stderr",
     "output_type": "stream",
     "text": [
      "                                                                                                                       \r"
     ]
    },
    {
     "name": "stdout",
     "output_type": "stream",
     "text": [
      "Epoch 23/40 - Training Accuracy: 97.3400 - Training Loss: 0.0918 - Validation Accuracy: 98.0800 - Validation Loss: 0.0697\n"
     ]
    },
    {
     "name": "stderr",
     "output_type": "stream",
     "text": [
      "                                                                                                                       \r"
     ]
    },
    {
     "name": "stdout",
     "output_type": "stream",
     "text": [
      "Epoch 24/40 - Training Accuracy: 97.5000 - Training Loss: 0.0844 - Validation Accuracy: 98.4000 - Validation Loss: 0.0599\n",
      "Best model saved with accuracy: 98.4000%\n"
     ]
    },
    {
     "name": "stderr",
     "output_type": "stream",
     "text": [
      "                                                                                                                       \r"
     ]
    },
    {
     "name": "stdout",
     "output_type": "stream",
     "text": [
      "Epoch 25/40 - Training Accuracy: 97.4600 - Training Loss: 0.0866 - Validation Accuracy: 98.4800 - Validation Loss: 0.0531\n",
      "Best model saved with accuracy: 98.4800%\n"
     ]
    },
    {
     "name": "stderr",
     "output_type": "stream",
     "text": [
      "                                                                                                                       \r"
     ]
    },
    {
     "name": "stdout",
     "output_type": "stream",
     "text": [
      "Epoch 26/40 - Training Accuracy: 97.6800 - Training Loss: 0.0825 - Validation Accuracy: 98.4800 - Validation Loss: 0.0519\n"
     ]
    },
    {
     "name": "stderr",
     "output_type": "stream",
     "text": [
      "                                                                                                                       \r"
     ]
    },
    {
     "name": "stdout",
     "output_type": "stream",
     "text": [
      "Epoch 27/40 - Training Accuracy: 97.9200 - Training Loss: 0.0739 - Validation Accuracy: 98.5600 - Validation Loss: 0.0514\n",
      "Best model saved with accuracy: 98.5600%\n"
     ]
    },
    {
     "name": "stderr",
     "output_type": "stream",
     "text": [
      "                                                                                                                       \r"
     ]
    },
    {
     "name": "stdout",
     "output_type": "stream",
     "text": [
      "Epoch 28/40 - Training Accuracy: 97.8000 - Training Loss: 0.0756 - Validation Accuracy: 97.6800 - Validation Loss: 0.0717\n"
     ]
    },
    {
     "name": "stderr",
     "output_type": "stream",
     "text": [
      "                                                                                                                       \r"
     ]
    },
    {
     "name": "stdout",
     "output_type": "stream",
     "text": [
      "Epoch 29/40 - Training Accuracy: 97.8900 - Training Loss: 0.0731 - Validation Accuracy: 98.5600 - Validation Loss: 0.0472\n"
     ]
    },
    {
     "name": "stderr",
     "output_type": "stream",
     "text": [
      "                                                                                                                       \r"
     ]
    },
    {
     "name": "stdout",
     "output_type": "stream",
     "text": [
      "Epoch 30/40 - Training Accuracy: 98.1500 - Training Loss: 0.0660 - Validation Accuracy: 98.5600 - Validation Loss: 0.0474\n"
     ]
    },
    {
     "name": "stderr",
     "output_type": "stream",
     "text": [
      "                                                                                                                       \r"
     ]
    },
    {
     "name": "stdout",
     "output_type": "stream",
     "text": [
      "Epoch 31/40 - Training Accuracy: 98.0700 - Training Loss: 0.0676 - Validation Accuracy: 98.4000 - Validation Loss: 0.0475\n"
     ]
    },
    {
     "name": "stderr",
     "output_type": "stream",
     "text": [
      "                                                                                                                       \r"
     ]
    },
    {
     "name": "stdout",
     "output_type": "stream",
     "text": [
      "Epoch 32/40 - Training Accuracy: 98.1800 - Training Loss: 0.0640 - Validation Accuracy: 98.7200 - Validation Loss: 0.0420\n",
      "Best model saved with accuracy: 98.7200%\n"
     ]
    },
    {
     "name": "stderr",
     "output_type": "stream",
     "text": [
      "                                                                                                                       \r"
     ]
    },
    {
     "name": "stdout",
     "output_type": "stream",
     "text": [
      "Epoch 33/40 - Training Accuracy: 97.7600 - Training Loss: 0.0702 - Validation Accuracy: 98.0000 - Validation Loss: 0.0606\n"
     ]
    },
    {
     "name": "stderr",
     "output_type": "stream",
     "text": [
      "                                                                                                                       \r"
     ]
    },
    {
     "name": "stdout",
     "output_type": "stream",
     "text": [
      "Epoch 34/40 - Training Accuracy: 98.1900 - Training Loss: 0.0629 - Validation Accuracy: 99.1200 - Validation Loss: 0.0398\n",
      "Best model saved with accuracy: 99.1200%\n"
     ]
    },
    {
     "name": "stderr",
     "output_type": "stream",
     "text": [
      "                                                                                                                       \r"
     ]
    },
    {
     "name": "stdout",
     "output_type": "stream",
     "text": [
      "Epoch 35/40 - Training Accuracy: 98.4100 - Training Loss: 0.0571 - Validation Accuracy: 98.5600 - Validation Loss: 0.0461\n"
     ]
    },
    {
     "name": "stderr",
     "output_type": "stream",
     "text": [
      "                                                                                                                       \r"
     ]
    },
    {
     "name": "stdout",
     "output_type": "stream",
     "text": [
      "Epoch 36/40 - Training Accuracy: 98.3200 - Training Loss: 0.0559 - Validation Accuracy: 99.0400 - Validation Loss: 0.0338\n"
     ]
    },
    {
     "name": "stderr",
     "output_type": "stream",
     "text": [
      "                                                                                                                       \r"
     ]
    },
    {
     "name": "stdout",
     "output_type": "stream",
     "text": [
      "Epoch 37/40 - Training Accuracy: 98.4700 - Training Loss: 0.0561 - Validation Accuracy: 98.7200 - Validation Loss: 0.0369\n"
     ]
    },
    {
     "name": "stderr",
     "output_type": "stream",
     "text": [
      "                                                                                                                       \r"
     ]
    },
    {
     "name": "stdout",
     "output_type": "stream",
     "text": [
      "Epoch 38/40 - Training Accuracy: 98.1800 - Training Loss: 0.0575 - Validation Accuracy: 98.7200 - Validation Loss: 0.0375\n"
     ]
    },
    {
     "name": "stderr",
     "output_type": "stream",
     "text": [
      "                                                                                                                       \r"
     ]
    },
    {
     "name": "stdout",
     "output_type": "stream",
     "text": [
      "Epoch 39/40 - Training Accuracy: 98.3100 - Training Loss: 0.0571 - Validation Accuracy: 98.7200 - Validation Loss: 0.0384\n",
      "Early stopping triggered. Stopping training at epoch 39.\n"
     ]
    }
   ],
   "source": [
    "# Train and evaluate the model\n",
    "num_epochs = 40\n",
    "train_losses, val_losses, train_accuracies, val_accuracies = train_and_evaluate(model, train_loader, val_loader, criterion, optimizer, num_epochs, device)"
   ]
  },
  {
   "cell_type": "code",
   "execution_count": 39,
   "id": "4663d7ae-fa6f-4078-b72c-4c6718c7a066",
   "metadata": {},
   "outputs": [
    {
     "name": "stdout",
     "output_type": "stream",
     "text": [
      "Test Loss: 0.0399, Test Accuracy: 98.96%\n"
     ]
    }
   ],
   "source": [
    "# Evaluate on test set\n",
    "test_loss, test_accuracy = validate(model, test_loader, criterion, device)\n",
    "print(f\"Test Loss: {test_loss:.4f}, Test Accuracy: {test_accuracy:.2f}%\")"
   ]
  },
  {
   "cell_type": "code",
   "execution_count": 40,
   "id": "8a6ea3b4-87bb-4f17-89b4-96c423f33917",
   "metadata": {},
   "outputs": [
    {
     "name": "stdout",
     "output_type": "stream",
     "text": [
      "Training results saved to DenseNet_training_results.csv\n"
     ]
    }
   ],
   "source": [
    "# Save accuracy and loss to a CSV file\n",
    "with open('DenseNet_training_results.csv', 'w', newline='') as f:\n",
    "    writer = csv.writer(f)\n",
    "    writer.writerow([\"Epoch\", \"Train Loss\", \"Val Loss\", \"Train Acc\", \"Val Acc\"])\n",
    "    for epoch in range(len(train_losses)):  # Use len(train_losses) instead of num_epochs\n",
    "        writer.writerow([epoch+1, train_losses[epoch], val_losses[epoch], train_accuracies[epoch], val_accuracies[epoch]])\n",
    "\n",
    "print(\"Training results saved to DenseNet_training_results.csv\")"
   ]
  },
  {
   "cell_type": "code",
   "execution_count": 41,
   "id": "fd0b77d4-22ee-4ec0-b624-29032ef1a05a",
   "metadata": {},
   "outputs": [
    {
     "name": "stdout",
     "output_type": "stream",
     "text": [
      "Model training complete and saved as 'densenet_rice_model.pth'.\n"
     ]
    }
   ],
   "source": [
    "# Optionally save the final model (this is optional since best model is already saved)\n",
    "torch.save(model.state_dict(), 'densenet_rice_model.pth')\n",
    "print(\"Model training complete and saved as 'densenet_rice_model.pth'.\")"
   ]
  },
  {
   "cell_type": "code",
   "execution_count": 42,
   "id": "0df5397b-dcba-4284-a4db-e046a3c03949",
   "metadata": {},
   "outputs": [
    {
     "data": {
      "image/png": "[encoded data removed]",
      "text/plain": [
       "<Figure size 1200x500 with 2 Axes>"
      ]
     },
     "metadata": {},
     "output_type": "display_data"
    }
   ],
   "source": [
    "# Plotting accuracy and loss curves\n",
    "def plot_curves(train_losses, val_losses, val_accuracies, train_accuracies):\n",
    "    epochs = range(1, len(train_losses) + 1)\n",
    "    \n",
    "    plt.figure(figsize=(12, 5))\n",
    "\n",
    "    # Plot Loss Curves\n",
    "    plt.subplot(1, 2, 1)\n",
    "    plt.plot(epochs, train_losses, 'bo-', label='Training Loss')\n",
    "    plt.plot(epochs, val_losses, 'ro-', label='Validation Loss')\n",
    "    plt.title('Loss Curves')\n",
    "    plt.xlabel('Epochs')\n",
    "    plt.ylabel('Loss')\n",
    "    plt.legend()\n",
    "\n",
    "    # Plot Accuracy Curves\n",
    "    plt.subplot(1, 2, 2)\n",
    "    plt.plot(epochs, val_accuracies, 'go-', label='Validation Accuracy')\n",
    "    plt.plot(epochs, train_accuracies, 'ro-', label='Train Accuracy')\n",
    "    plt.title('Accuracy Curve')\n",
    "    plt.xlabel('Epochs')\n",
    "    plt.ylabel('Accuracy (%)')\n",
    "    plt.legend()\n",
    "\n",
    "    plt.tight_layout()\n",
    "    plt.show()\n",
    "\n",
    "# Call the function to plot the curves\n",
    "plot_curves(train_losses, val_losses, val_accuracies, train_accuracies)"
   ]
  },
  {
   "cell_type": "code",
   "execution_count": null,
   "id": "a6980fb2-f2e7-4e39-8a5f-1b454251e0a6",
   "metadata": {},
   "outputs": [],
   "source": []
  }
 ],
 "metadata": {
  "kernelspec": {
   "display_name": "Python 3 (ipykernel)",
   "language": "python",
   "name": "python3"
  },
  "language_info": {
   "codemirror_mode": {
    "name": "ipython",
    "version": 3
   },
   "file_extension": ".py",
   "mimetype": "text/x-python",
   "name": "python",
   "nbconvert_exporter": "python",
   "pygments_lexer": "ipython3",
   "version": "3.8.20"
  }
 },
 "nbformat": 4,
 "nbformat_minor": 5
}
