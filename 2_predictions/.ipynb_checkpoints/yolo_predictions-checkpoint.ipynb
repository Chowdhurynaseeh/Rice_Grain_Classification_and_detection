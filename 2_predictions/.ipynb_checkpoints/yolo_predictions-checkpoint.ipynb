{
 "cells": [
  {
   "cell_type": "code",
   "execution_count": 37,
   "id": "054e1497",
   "metadata": {},
   "outputs": [],
   "source": [
    "import cv2\n",
    "import numpy as np\n",
    "import os\n",
    "import yaml\n",
    "from yaml.loader import SafeLoader"
   ]
  },
  {
   "cell_type": "code",
   "execution_count": 38,
   "id": "57de92ef",
   "metadata": {},
   "outputs": [
    {
     "name": "stdout",
     "output_type": "stream",
     "text": [
      "Requirement already satisfied: PyYAML in c:\\programdata\\anaconda3\\lib\\site-packages (6.0)\n"
     ]
    }
   ],
   "source": [
    "!pip install PyYAML"
   ]
  },
  {
   "cell_type": "code",
   "execution_count": 39,
   "id": "e09398a3",
   "metadata": {},
   "outputs": [
    {
     "name": "stdout",
     "output_type": "stream",
     "text": [
      "['Nazirshail', 'Paijam', 'Jirashail', 'Chinigura', 'Basmati']\n"
     ]
    }
   ],
   "source": [
    "# load YAML\n",
    "with open('data.yaml',mode='r') as f:\n",
    "    data_yaml = yaml.load(f,Loader=SafeLoader)\n",
    "    \n",
    "labels = data_yaml['names']\n",
    "print(labels)"
   ]
  },
  {
   "cell_type": "code",
   "execution_count": 40,
   "id": "894b5c4b",
   "metadata": {},
   "outputs": [],
   "source": [
    "# load YOLO model\n",
    "yolo = cv2.dnn.readNetFromONNX('./Model/weights/best.onnx')\n",
    "yolo.setPreferableBackend(cv2.dnn.DNN_BACKEND_OPENCV)\n",
    "yolo.setPreferableTarget(cv2.dnn.DNN_TARGET_CPU)"
   ]
  },
  {
   "cell_type": "code",
   "execution_count": 41,
   "id": "a1123dbe",
   "metadata": {},
   "outputs": [],
   "source": [
    "# load the image\n",
    "img = cv2.imread('./testingdata/paijam_01.png')\n",
    "image = img.copy()\n",
    "row, col, d = image.shape\n",
    "\n",
    "\n",
    "# get the YOLO prediction from the the image\n",
    "# step-1 convert image into square image (array)\n",
    "max_rc = max(row,col)\n",
    "input_image = np.zeros((max_rc,max_rc,3),dtype=np.uint8)\n",
    "input_image[0:row,0:col] = image\n",
    "# step-2: get prediction from square array\n",
    "INPUT_WH_YOLO = 640\n",
    "blob = cv2.dnn.blobFromImage(input_image,1/255,(INPUT_WH_YOLO,INPUT_WH_YOLO),swapRB=True,crop=False)\n",
    "yolo.setInput(blob)\n",
    "preds = yolo.forward() # detection or prediction from YOLO"
   ]
  },
  {
   "cell_type": "code",
   "execution_count": 42,
   "id": "7f4b7e00",
   "metadata": {},
   "outputs": [
    {
     "name": "stdout",
     "output_type": "stream",
     "text": [
      "(1, 25200, 10)\n"
     ]
    }
   ],
   "source": [
    "print(preds.shape)"
   ]
  },
  {
   "cell_type": "code",
   "execution_count": 43,
   "id": "6b1d189c",
   "metadata": {},
   "outputs": [],
   "source": [
    "# Non Maximum Supression\n",
    "# step-1: filter detection based on confidence (0.4) and probability score (0.25)\n",
    "detections = preds[0]\n",
    "boxes = []\n",
    "confidences = []\n",
    "classes = []\n",
    "\n",
    "# widht and height of the image (input_image)\n",
    "image_w, image_h = input_image.shape[:2]\n",
    "x_factor = image_w/INPUT_WH_YOLO\n",
    "y_factor = image_h/INPUT_WH_YOLO\n",
    "\n",
    "for i in range(len(detections)):\n",
    "    row = detections[i]\n",
    "    confidence = row[4] # confidence of detection an object\n",
    "    if confidence > 0.4:\n",
    "        class_score = row[5:].max() # maximum probability from 20 objects\n",
    "        class_id = row[5:].argmax() # get the index position at which max probabilty occur\n",
    "        \n",
    "        if class_score > 0.25:\n",
    "            cx, cy, w, h = row[0:4]\n",
    "            # construct bounding from four values\n",
    "            # left, top, width and height\n",
    "            left = int((cx - 0.5*w)*x_factor)\n",
    "            top = int((cy - 0.5*h)*y_factor)\n",
    "            width = int(w*x_factor)\n",
    "            height = int(h*y_factor)\n",
    "            \n",
    "            box = np.array([left,top,width,height])\n",
    "            \n",
    "            # append values into the list\n",
    "            confidences.append(confidence)\n",
    "            boxes.append(box)\n",
    "            classes.append(class_id)\n",
    "            \n",
    "# clean\n",
    "boxes_np = np.array(boxes).tolist()\n",
    "confidences_np = np.array(confidences).tolist()\n",
    "\n",
    "# NMS\n",
    "index = cv2.dnn.NMSBoxes(boxes_np,confidences_np,0.25,0.45).flatten()\n"
   ]
  },
  {
   "cell_type": "code",
   "execution_count": 44,
   "id": "300e0702",
   "metadata": {},
   "outputs": [
    {
     "data": {
      "text/plain": [
       "array([13])"
      ]
     },
     "execution_count": 44,
     "metadata": {},
     "output_type": "execute_result"
    }
   ],
   "source": [
    "index"
   ]
  },
  {
   "cell_type": "code",
   "execution_count": 45,
   "id": "dcd48a4d",
   "metadata": {},
   "outputs": [],
   "source": [
    "# Draw the Bounding\n",
    "for ind in index:\n",
    "    # extract bounding box\n",
    "    x,y,w,h = boxes_np[ind]\n",
    "    bb_conf = int(confidences_np[ind]*100)\n",
    "    classes_id = classes[ind]\n",
    "    class_name = labels[classes_id]\n",
    "    \n",
    "    text = f'{class_name}: {bb_conf}%'\n",
    "    \n",
    "    cv2.rectangle(image,(x,y),(x+w,y+h),(0,255,0),2)\n",
    "    cv2.rectangle(image,(x,y-30),(x+w,y),(255,255,255),-1)\n",
    "    \n",
    "    cv2.putText(image,text,(x,y-10),cv2.FONT_HERSHEY_PLAIN,0.7,(0,0,0),1)"
   ]
  },
  {
   "cell_type": "code",
   "execution_count": 46,
   "id": "26eb5eb1",
   "metadata": {},
   "outputs": [],
   "source": [
    "cv2.imshow('original',img)\n",
    "cv2.imshow('yolo_prediction',image)\n",
    "cv2.waitKey(0)\n",
    "cv2.destroyAllWindows()"
   ]
  },
  {
   "cell_type": "code",
   "execution_count": null,
   "id": "1b93076e",
   "metadata": {},
   "outputs": [],
   "source": []
  },
  {
   "cell_type": "code",
   "execution_count": null,
   "id": "83e219ce",
   "metadata": {},
   "outputs": [],
   "source": []
  },
  {
   "cell_type": "code",
   "execution_count": null,
   "id": "1c38864f",
   "metadata": {},
   "outputs": [],
   "source": []
  }
 ],
 "metadata": {
  "kernelspec": {
   "display_name": "Python 3 (ipykernel)",
   "language": "python",
   "name": "python3"
  },
  "language_info": {
   "codemirror_mode": {
    "name": "ipython",
    "version": 3
   },
   "file_extension": ".py",
   "mimetype": "text/x-python",
   "name": "python",
   "nbconvert_exporter": "python",
   "pygments_lexer": "ipython3",
   "version": "3.9.13"
  }
 },
 "nbformat": 4,
 "nbformat_minor": 5
}
