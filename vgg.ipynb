{
 "cells": [
  {
   "cell_type": "code",
   "execution_count": 1,
   "id": "984514e8-599a-4392-ad1e-faba19af1469",
   "metadata": {},
   "outputs": [],
   "source": [
    "import os\n",
    "import torch\n",
    "import torch.nn as nn\n",
    "import torch.optim as optim\n",
    "from torch.utils.data import DataLoader\n",
    "from torchvision import datasets, transforms, models\n",
    "import matplotlib.pyplot as plt\n",
    "from tqdm import tqdm\n",
    "from torchsummary import summary\n",
    "from sklearn.metrics import precision_score, recall_score, f1_score, accuracy_score, confusion_matrix, roc_curve, auc, average_precision_score, precision_recall_curve\n",
    "import pandas as pd\n",
    "import numpy as np\n",
    "import seaborn as sns\n",
    "from sklearn.preprocessing import label_binarize\n",
    "from tabulate import tabulate\n",
    "import csv"
   ]
  },
  {
   "cell_type": "code",
   "execution_count": 2,
   "id": "25b24efe-9ec6-4676-a4e8-65e87e01a685",
   "metadata": {},
   "outputs": [
    {
     "name": "stdout",
     "output_type": "stream",
     "text": [
      "Using device: cuda\n"
     ]
    }
   ],
   "source": [
    "# Check if GPU is available\n",
    "device = torch.device(\"cuda\" if torch.cuda.is_available() else \"cpu\")\n",
    "print(f\"Using device: {device}\")"
   ]
  },
  {
   "cell_type": "code",
   "execution_count": 4,
   "id": "306512be-de51-49b1-92e6-a9769249e508",
   "metadata": {},
   "outputs": [],
   "source": [
    "# Set paths for dataset splits\n",
    "train_dir = 'I:/RICE/final_rice_data/train'\n",
    "val_dir = 'I:/RICE/final_rice_data/val'\n",
    "test_dir = 'I:/RICE/final_rice_data/test'"
   ]
  },
  {
   "cell_type": "code",
   "execution_count": 19,
   "id": "8d7d9a75-2729-432f-ba86-c655b96018ff",
   "metadata": {},
   "outputs": [
    {
     "name": "stdout",
     "output_type": "stream",
     "text": [
      "Total number of images in the training set: 10000\n",
      "Total number of images in the validation set: 1250\n",
      "Total number of images in the test set: 1250\n"
     ]
    }
   ],
   "source": [
    "# Function to count images in a directory\n",
    "def count_images_in_directory(directory):\n",
    "    count = 0\n",
    "    for _, _, files in os.walk(directory):\n",
    "        count += len([f for f in files if f.lower().endswith(('.png', '.jpg', '.jpeg'))])\n",
    "    return count\n",
    "\n",
    "# Count images in each directory\n",
    "train_count = count_images_in_directory(train_dir)\n",
    "val_count = count_images_in_directory(val_dir)\n",
    "test_count = count_images_in_directory(test_dir)\n",
    "\n",
    "# Display the counts\n",
    "print(f\"Total number of images in the training set: {train_count}\")\n",
    "print(f\"Total number of images in the validation set: {val_count}\")\n",
    "print(f\"Total number of images in the test set: {test_count}\")"
   ]
  },
  {
   "cell_type": "code",
   "execution_count": 20,
   "id": "eb6d9356-1d2f-4380-9773-8c57501a641d",
   "metadata": {},
   "outputs": [],
   "source": [
    "# Data augmentation and normalization for training\n",
    "train_transforms = transforms.Compose([\n",
    "    transforms.Resize((224, 224)),          # Resize images\n",
    "    transforms.RandomHorizontalFlip(),        # Random horizontal flip\n",
    "    transforms.RandomRotation(20),            # Random rotation\n",
    "    transforms.ToTensor(),                    # Convert image to tensor\n",
    "    transforms.Normalize(mean=[0.485, 0.456, 0.406], std=[0.229, 0.224, 0.225]), # Normalize\n",
    "])"
   ]
  },
  {
   "cell_type": "code",
   "execution_count": 21,
   "id": "1f3868f7-7734-49d2-8633-106c719f655a",
   "metadata": {},
   "outputs": [],
   "source": [
    "# Normalization for validation and test\n",
    "val_test_transforms = transforms.Compose([\n",
    "    transforms.Resize((224, 224)), \n",
    "    transforms.ToTensor(), \n",
    "    transforms.Normalize(mean=[0.485, 0.456, 0.406], std=[0.229, 0.224, 0.225]),\n",
    "])"
   ]
  },
  {
   "cell_type": "code",
   "execution_count": 22,
   "id": "867f43b7-79c6-4a3a-92e0-e78e6440214d",
   "metadata": {},
   "outputs": [],
   "source": [
    "# Load datasets\n",
    "train_dataset = datasets.ImageFolder(root=train_dir, transform=train_transforms)\n",
    "val_dataset = datasets.ImageFolder(root=val_dir, transform=val_test_transforms)\n",
    "test_dataset = datasets.ImageFolder(root=test_dir, transform=val_test_transforms)"
   ]
  },
  {
   "cell_type": "code",
   "execution_count": 23,
   "id": "99bc4c83-7883-4c4a-b445-13dee220b799",
   "metadata": {},
   "outputs": [],
   "source": [
    "# Data loaders\n",
    "train_loader = DataLoader(train_dataset, batch_size=32, shuffle=True)\n",
    "val_loader = DataLoader(val_dataset, batch_size=32, shuffle=False)\n",
    "test_loader = DataLoader(test_dataset, batch_size=32, shuffle=False)"
   ]
  },
  {
   "cell_type": "code",
   "execution_count": 24,
   "id": "bb4895db-ab9e-4023-ad1c-53605c518d46",
   "metadata": {},
   "outputs": [],
   "source": [
    "# Define the VGG16 model architecture\n",
    "class VGG16Model(nn.Module):\n",
    "    def __init__(self, num_classes):\n",
    "        super(VGG16Model, self).__init__()\n",
    "        self.vgg16 = models.vgg16(pretrained=True)  # Load VGG16 with pretrained weights\n",
    "        self.vgg16.classifier[6] = nn.Linear(4096, num_classes)  # Change the last layer to match the number of classes\n",
    "\n",
    "    def forward(self, x):\n",
    "        return self.vgg16(x)\n",
    "\n",
    "num_classes = 5  # Number of classes\n",
    "model = VGG16Model(num_classes).to(device)"
   ]
  },
  {
   "cell_type": "code",
   "execution_count": 25,
   "id": "0be59402-50ba-4bab-bc51-8a3ae19dd29b",
   "metadata": {},
   "outputs": [
    {
     "name": "stdout",
     "output_type": "stream",
     "text": [
      "----------------------------------------------------------------\n",
      "        Layer (type)               Output Shape         Param #\n",
      "================================================================\n",
      "            Conv2d-1         [-1, 64, 224, 224]           1,792\n",
      "              ReLU-2         [-1, 64, 224, 224]               0\n",
      "            Conv2d-3         [-1, 64, 224, 224]          36,928\n",
      "              ReLU-4         [-1, 64, 224, 224]               0\n",
      "         MaxPool2d-5         [-1, 64, 112, 112]               0\n",
      "            Conv2d-6        [-1, 128, 112, 112]          73,856\n",
      "              ReLU-7        [-1, 128, 112, 112]               0\n",
      "            Conv2d-8        [-1, 128, 112, 112]         147,584\n",
      "              ReLU-9        [-1, 128, 112, 112]               0\n",
      "        MaxPool2d-10          [-1, 128, 56, 56]               0\n",
      "           Conv2d-11          [-1, 256, 56, 56]         295,168\n",
      "             ReLU-12          [-1, 256, 56, 56]               0\n",
      "           Conv2d-13          [-1, 256, 56, 56]         590,080\n",
      "             ReLU-14          [-1, 256, 56, 56]               0\n",
      "           Conv2d-15          [-1, 256, 56, 56]         590,080\n",
      "             ReLU-16          [-1, 256, 56, 56]               0\n",
      "        MaxPool2d-17          [-1, 256, 28, 28]               0\n",
      "           Conv2d-18          [-1, 512, 28, 28]       1,180,160\n",
      "             ReLU-19          [-1, 512, 28, 28]               0\n",
      "           Conv2d-20          [-1, 512, 28, 28]       2,359,808\n",
      "             ReLU-21          [-1, 512, 28, 28]               0\n",
      "           Conv2d-22          [-1, 512, 28, 28]       2,359,808\n",
      "             ReLU-23          [-1, 512, 28, 28]               0\n",
      "        MaxPool2d-24          [-1, 512, 14, 14]               0\n",
      "           Conv2d-25          [-1, 512, 14, 14]       2,359,808\n",
      "             ReLU-26          [-1, 512, 14, 14]               0\n",
      "           Conv2d-27          [-1, 512, 14, 14]       2,359,808\n",
      "             ReLU-28          [-1, 512, 14, 14]               0\n",
      "           Conv2d-29          [-1, 512, 14, 14]       2,359,808\n",
      "             ReLU-30          [-1, 512, 14, 14]               0\n",
      "        MaxPool2d-31            [-1, 512, 7, 7]               0\n",
      "AdaptiveAvgPool2d-32            [-1, 512, 7, 7]               0\n",
      "           Linear-33                 [-1, 4096]     102,764,544\n",
      "             ReLU-34                 [-1, 4096]               0\n",
      "          Dropout-35                 [-1, 4096]               0\n",
      "           Linear-36                 [-1, 4096]      16,781,312\n",
      "             ReLU-37                 [-1, 4096]               0\n",
      "          Dropout-38                 [-1, 4096]               0\n",
      "           Linear-39                    [-1, 5]          20,485\n",
      "              VGG-40                    [-1, 5]               0\n",
      "================================================================\n",
      "Total params: 134,281,029\n",
      "Trainable params: 134,281,029\n",
      "Non-trainable params: 0\n",
      "----------------------------------------------------------------\n",
      "Input size (MB): 0.57\n",
      "Forward/backward pass size (MB): 218.77\n",
      "Params size (MB): 512.24\n",
      "Estimated Total Size (MB): 731.59\n",
      "----------------------------------------------------------------\n"
     ]
    }
   ],
   "source": [
    "# Display model summary\n",
    "summary(model, (3, 224, 224))"
   ]
  },
  {
   "cell_type": "code",
   "execution_count": 26,
   "id": "1bf5ca81-fb64-4e60-bb4d-b381e8b371a7",
   "metadata": {},
   "outputs": [],
   "source": [
    "# Define loss function and optimizer\n",
    "criterion = nn.CrossEntropyLoss()\n",
    "optimizer = optim.Adam(model.parameters(), lr=0.000001)"
   ]
  },
  {
   "cell_type": "code",
   "execution_count": 27,
   "id": "7daeb200-7055-4fda-acaa-14f214885745",
   "metadata": {},
   "outputs": [],
   "source": [
    "def train(model, train_loader, criterion, optimizer, device):\n",
    "    model.train()  # Set the model to training mode\n",
    "    running_loss = 0.0\n",
    "    correct = 0\n",
    "    total = 0\n",
    "\n",
    "    for images, labels in tqdm(train_loader, desc= \"Training\", leave = False):\n",
    "        images, labels = images.to(device), labels.to(device)  # Move to device\n",
    "\n",
    "        optimizer.zero_grad()  # Zero the gradients\n",
    "        outputs = model(images)  # Forward pass\n",
    "        loss = criterion(outputs, labels)  # Compute loss\n",
    "        loss.backward()  # Backward pass\n",
    "        optimizer.step()  # Update weights\n",
    "\n",
    "        running_loss += loss.item()  # Accumulate loss\n",
    "\n",
    "        # Calculate training accuracy\n",
    "        _, predicted = torch.max(outputs.data, 1)  # Get predicted classes\n",
    "        total += labels.size(0)\n",
    "        correct += (predicted == labels).sum().item()  # Count correct predictions\n",
    "\n",
    "    train_loss = running_loss / len(train_loader)  # Average loss\n",
    "    train_accuracy = 100*correct / total  # Accuracy\n",
    "    return train_loss, train_accuracy\n"
   ]
  },
  {
   "cell_type": "code",
   "execution_count": 28,
   "id": "54d91593-7106-4faf-bb50-1318940db6c4",
   "metadata": {},
   "outputs": [],
   "source": [
    "# Validation function\n",
    "def validate(model, val_loader, criterion, device):\n",
    "    model.eval()\n",
    "    val_loss = 0.0\n",
    "    correct = 0\n",
    "    total = 0\n",
    "    with torch.no_grad():\n",
    "        for images, labels in val_loader:\n",
    "            images, labels = images.to(device), labels.to(device)\n",
    "            outputs = model(images)\n",
    "            loss = criterion(outputs, labels)\n",
    "            val_loss += loss.item()\n",
    "\n",
    "            _, predicted = torch.max(outputs.data, 1)\n",
    "            total += labels.size(0)\n",
    "            correct += (predicted == labels).sum().item()\n",
    "\n",
    "    avg_val_loss = val_loss / len(val_loader)\n",
    "    accuracy = 100 * correct / total\n",
    "    return avg_val_loss, accuracy"
   ]
  },
  {
   "cell_type": "code",
   "execution_count": 29,
   "id": "c3b48301-5d23-428d-b532-e581664868c2",
   "metadata": {},
   "outputs": [],
   "source": [
    "def train_and_evaluate(model, train_loader, val_loader, criterion, optimizer, num_epochs, device, patience=5):\n",
    "    # Store losses and accuracies\n",
    "    train_losses = []\n",
    "    val_losses = []\n",
    "    val_accuracies = []\n",
    "    train_accuracies = []  # To store training accuracy\n",
    "\n",
    "    best_val_accuracy = 0\n",
    "    epochs_without_improvement = 0\n",
    "\n",
    "    for epoch in range(num_epochs):\n",
    "        # Train the model\n",
    "        train_loss, train_accuracy = train(model, train_loader, criterion, optimizer, device)\n",
    "        \n",
    "        # Validate the model\n",
    "        val_loss, val_accuracy = validate(model, val_loader, criterion, device)\n",
    "\n",
    "        # Append to lists for plotting later\n",
    "        train_losses.append(train_loss)\n",
    "        val_losses.append(val_loss)\n",
    "        val_accuracies.append(val_accuracy)\n",
    "        train_accuracies.append(train_accuracy)  # Store training accuracy\n",
    "\n",
    "        # Print training and validation results\n",
    "        print(f\"Epoch {epoch + 1}/{num_epochs} - \"\n",
    "              f\"Training Accuracy: {train_accuracy:.4f} - \"\n",
    "              f\"Training Loss: {train_loss:.4f} - \"\n",
    "              f\"Validation Accuracy: {val_accuracy:.4f} - \"\n",
    "              f\"Validation Loss: {val_loss:.4f}\")\n",
    "\n",
    "        # Check if we have a new best validation accuracy\n",
    "        if val_accuracy > best_val_accuracy:\n",
    "            best_val_accuracy = val_accuracy\n",
    "            epochs_without_improvement = 0\n",
    "            # Save the best model state\n",
    "            torch.save(model.state_dict(), 'best_crack_detection_model.pth')\n",
    "            print(f\"Best model saved with accuracy: {best_val_accuracy:.4f}%\")\n",
    "        else:\n",
    "            epochs_without_improvement += 1\n",
    "        \n",
    "        # Check for early stopping\n",
    "        if epochs_without_improvement >= patience:\n",
    "            print(f\"Early stopping triggered. Stopping training at epoch {epoch + 1}.\")\n",
    "            break\n",
    "\n",
    "    return train_losses, val_losses, train_accuracies, val_accuracies\n"
   ]
  },
  {
   "cell_type": "code",
   "execution_count": 30,
   "id": "06dfe61f-f833-4388-bfc5-9bfe157a3187",
   "metadata": {},
   "outputs": [
    {
     "name": "stderr",
     "output_type": "stream",
     "text": [
      "                                                                                                                       \r"
     ]
    },
    {
     "name": "stdout",
     "output_type": "stream",
     "text": [
      "Epoch 1/30 - Training Accuracy: 41.6900 - Training Loss: 1.3557 - Validation Accuracy: 68.0800 - Validation Loss: 0.9704\n",
      "Best model saved with accuracy: 68.0800%\n"
     ]
    },
    {
     "name": "stderr",
     "output_type": "stream",
     "text": [
      "                                                                                                                       \r"
     ]
    },
    {
     "name": "stdout",
     "output_type": "stream",
     "text": [
      "Epoch 2/30 - Training Accuracy: 80.5900 - Training Loss: 0.5286 - Validation Accuracy: 91.6000 - Validation Loss: 0.3020\n",
      "Best model saved with accuracy: 91.6000%\n"
     ]
    },
    {
     "name": "stderr",
     "output_type": "stream",
     "text": [
      "                                                                                                                       \r"
     ]
    },
    {
     "name": "stdout",
     "output_type": "stream",
     "text": [
      "Epoch 3/30 - Training Accuracy: 92.9100 - Training Loss: 0.2027 - Validation Accuracy: 94.5600 - Validation Loss: 0.1669\n",
      "Best model saved with accuracy: 94.5600%\n"
     ]
    },
    {
     "name": "stderr",
     "output_type": "stream",
     "text": [
      "                                                                                                                       \r"
     ]
    },
    {
     "name": "stdout",
     "output_type": "stream",
     "text": [
      "Epoch 4/30 - Training Accuracy: 95.1800 - Training Loss: 0.1353 - Validation Accuracy: 96.0800 - Validation Loss: 0.1254\n",
      "Best model saved with accuracy: 96.0800%\n"
     ]
    },
    {
     "name": "stderr",
     "output_type": "stream",
     "text": [
      "                                                                                                                       \r"
     ]
    },
    {
     "name": "stdout",
     "output_type": "stream",
     "text": [
      "Epoch 5/30 - Training Accuracy: 96.0100 - Training Loss: 0.1063 - Validation Accuracy: 96.1600 - Validation Loss: 0.1032\n",
      "Best model saved with accuracy: 96.1600%\n"
     ]
    },
    {
     "name": "stderr",
     "output_type": "stream",
     "text": [
      "                                                                                                                       \r"
     ]
    },
    {
     "name": "stdout",
     "output_type": "stream",
     "text": [
      "Epoch 6/30 - Training Accuracy: 96.4000 - Training Loss: 0.0970 - Validation Accuracy: 96.9600 - Validation Loss: 0.0944\n",
      "Best model saved with accuracy: 96.9600%\n"
     ]
    },
    {
     "name": "stderr",
     "output_type": "stream",
     "text": [
      "                                                                                                                       \r"
     ]
    },
    {
     "name": "stdout",
     "output_type": "stream",
     "text": [
      "Epoch 7/30 - Training Accuracy: 97.4200 - Training Loss: 0.0795 - Validation Accuracy: 97.2800 - Validation Loss: 0.0743\n",
      "Best model saved with accuracy: 97.2800%\n"
     ]
    },
    {
     "name": "stderr",
     "output_type": "stream",
     "text": [
      "                                                                                                                       \r"
     ]
    },
    {
     "name": "stdout",
     "output_type": "stream",
     "text": [
      "Epoch 8/30 - Training Accuracy: 97.3200 - Training Loss: 0.0728 - Validation Accuracy: 97.2800 - Validation Loss: 0.0740\n"
     ]
    },
    {
     "name": "stderr",
     "output_type": "stream",
     "text": [
      "                                                                                                                       \r"
     ]
    },
    {
     "name": "stdout",
     "output_type": "stream",
     "text": [
      "Epoch 9/30 - Training Accuracy: 97.7800 - Training Loss: 0.0646 - Validation Accuracy: 97.3600 - Validation Loss: 0.0654\n",
      "Best model saved with accuracy: 97.3600%\n"
     ]
    },
    {
     "name": "stderr",
     "output_type": "stream",
     "text": [
      "                                                                                                                       \r"
     ]
    },
    {
     "name": "stdout",
     "output_type": "stream",
     "text": [
      "Epoch 10/30 - Training Accuracy: 97.8800 - Training Loss: 0.0596 - Validation Accuracy: 97.8400 - Validation Loss: 0.0611\n",
      "Best model saved with accuracy: 97.8400%\n"
     ]
    },
    {
     "name": "stderr",
     "output_type": "stream",
     "text": [
      "                                                                                                                       \r"
     ]
    },
    {
     "name": "stdout",
     "output_type": "stream",
     "text": [
      "Epoch 11/30 - Training Accuracy: 97.6300 - Training Loss: 0.0630 - Validation Accuracy: 97.7600 - Validation Loss: 0.0603\n"
     ]
    },
    {
     "name": "stderr",
     "output_type": "stream",
     "text": [
      "                                                                                                                       \r"
     ]
    },
    {
     "name": "stdout",
     "output_type": "stream",
     "text": [
      "Epoch 12/30 - Training Accuracy: 98.1000 - Training Loss: 0.0524 - Validation Accuracy: 97.9200 - Validation Loss: 0.0536\n",
      "Best model saved with accuracy: 97.9200%\n"
     ]
    },
    {
     "name": "stderr",
     "output_type": "stream",
     "text": [
      "                                                                                                                       \r"
     ]
    },
    {
     "name": "stdout",
     "output_type": "stream",
     "text": [
      "Epoch 13/30 - Training Accuracy: 98.2000 - Training Loss: 0.0508 - Validation Accuracy: 98.3200 - Validation Loss: 0.0551\n",
      "Best model saved with accuracy: 98.3200%\n"
     ]
    },
    {
     "name": "stderr",
     "output_type": "stream",
     "text": [
      "                                                                                                                       \r"
     ]
    },
    {
     "name": "stdout",
     "output_type": "stream",
     "text": [
      "Epoch 14/30 - Training Accuracy: 98.3200 - Training Loss: 0.0451 - Validation Accuracy: 98.0800 - Validation Loss: 0.0551\n"
     ]
    },
    {
     "name": "stderr",
     "output_type": "stream",
     "text": [
      "                                                                                                                       \r"
     ]
    },
    {
     "name": "stdout",
     "output_type": "stream",
     "text": [
      "Epoch 15/30 - Training Accuracy: 98.4000 - Training Loss: 0.0441 - Validation Accuracy: 98.4000 - Validation Loss: 0.0485\n",
      "Best model saved with accuracy: 98.4000%\n"
     ]
    },
    {
     "name": "stderr",
     "output_type": "stream",
     "text": [
      "                                                                                                                       \r"
     ]
    },
    {
     "name": "stdout",
     "output_type": "stream",
     "text": [
      "Epoch 16/30 - Training Accuracy: 98.4000 - Training Loss: 0.0448 - Validation Accuracy: 98.4000 - Validation Loss: 0.0439\n"
     ]
    },
    {
     "name": "stderr",
     "output_type": "stream",
     "text": [
      "                                                                                                                       \r"
     ]
    },
    {
     "name": "stdout",
     "output_type": "stream",
     "text": [
      "Epoch 17/30 - Training Accuracy: 98.7100 - Training Loss: 0.0416 - Validation Accuracy: 98.2400 - Validation Loss: 0.0462\n"
     ]
    },
    {
     "name": "stderr",
     "output_type": "stream",
     "text": [
      "                                                                                                                       \r"
     ]
    },
    {
     "name": "stdout",
     "output_type": "stream",
     "text": [
      "Epoch 18/30 - Training Accuracy: 98.6200 - Training Loss: 0.0387 - Validation Accuracy: 98.4800 - Validation Loss: 0.0425\n",
      "Best model saved with accuracy: 98.4800%\n"
     ]
    },
    {
     "name": "stderr",
     "output_type": "stream",
     "text": [
      "                                                                                                                       \r"
     ]
    },
    {
     "name": "stdout",
     "output_type": "stream",
     "text": [
      "Epoch 19/30 - Training Accuracy: 98.8000 - Training Loss: 0.0367 - Validation Accuracy: 98.5600 - Validation Loss: 0.0443\n",
      "Best model saved with accuracy: 98.5600%\n"
     ]
    },
    {
     "name": "stderr",
     "output_type": "stream",
     "text": [
      "                                                                                                                       \r"
     ]
    },
    {
     "name": "stdout",
     "output_type": "stream",
     "text": [
      "Epoch 20/30 - Training Accuracy: 98.7000 - Training Loss: 0.0364 - Validation Accuracy: 98.5600 - Validation Loss: 0.0422\n"
     ]
    },
    {
     "name": "stderr",
     "output_type": "stream",
     "text": [
      "                                                                                                                       \r"
     ]
    },
    {
     "name": "stdout",
     "output_type": "stream",
     "text": [
      "Epoch 21/30 - Training Accuracy: 98.9600 - Training Loss: 0.0301 - Validation Accuracy: 98.6400 - Validation Loss: 0.0402\n",
      "Best model saved with accuracy: 98.6400%\n"
     ]
    },
    {
     "name": "stderr",
     "output_type": "stream",
     "text": [
      "                                                                                                                       \r"
     ]
    },
    {
     "name": "stdout",
     "output_type": "stream",
     "text": [
      "Epoch 22/30 - Training Accuracy: 98.8400 - Training Loss: 0.0306 - Validation Accuracy: 98.6400 - Validation Loss: 0.0332\n"
     ]
    },
    {
     "name": "stderr",
     "output_type": "stream",
     "text": [
      "                                                                                                                       \r"
     ]
    },
    {
     "name": "stdout",
     "output_type": "stream",
     "text": [
      "Epoch 23/30 - Training Accuracy: 98.9000 - Training Loss: 0.0293 - Validation Accuracy: 98.4800 - Validation Loss: 0.0418\n"
     ]
    },
    {
     "name": "stderr",
     "output_type": "stream",
     "text": [
      "                                                                                                                       \r"
     ]
    },
    {
     "name": "stdout",
     "output_type": "stream",
     "text": [
      "Epoch 24/30 - Training Accuracy: 98.9800 - Training Loss: 0.0282 - Validation Accuracy: 98.7200 - Validation Loss: 0.0346\n",
      "Best model saved with accuracy: 98.7200%\n"
     ]
    },
    {
     "name": "stderr",
     "output_type": "stream",
     "text": [
      "                                                                                                                       \r"
     ]
    },
    {
     "name": "stdout",
     "output_type": "stream",
     "text": [
      "Epoch 25/30 - Training Accuracy: 99.0600 - Training Loss: 0.0292 - Validation Accuracy: 98.8800 - Validation Loss: 0.0308\n",
      "Best model saved with accuracy: 98.8800%\n"
     ]
    },
    {
     "name": "stderr",
     "output_type": "stream",
     "text": [
      "                                                                                                                       \r"
     ]
    },
    {
     "name": "stdout",
     "output_type": "stream",
     "text": [
      "Epoch 26/30 - Training Accuracy: 99.0900 - Training Loss: 0.0258 - Validation Accuracy: 98.9600 - Validation Loss: 0.0298\n",
      "Best model saved with accuracy: 98.9600%\n"
     ]
    },
    {
     "name": "stderr",
     "output_type": "stream",
     "text": [
      "                                                                                                                       \r"
     ]
    },
    {
     "name": "stdout",
     "output_type": "stream",
     "text": [
      "Epoch 27/30 - Training Accuracy: 99.0700 - Training Loss: 0.0269 - Validation Accuracy: 98.8800 - Validation Loss: 0.0282\n"
     ]
    },
    {
     "name": "stderr",
     "output_type": "stream",
     "text": [
      "                                                                                                                       \r"
     ]
    },
    {
     "name": "stdout",
     "output_type": "stream",
     "text": [
      "Epoch 28/30 - Training Accuracy: 99.0600 - Training Loss: 0.0266 - Validation Accuracy: 98.8000 - Validation Loss: 0.0325\n"
     ]
    },
    {
     "name": "stderr",
     "output_type": "stream",
     "text": [
      "                                                                                                                       \r"
     ]
    },
    {
     "name": "stdout",
     "output_type": "stream",
     "text": [
      "Epoch 29/30 - Training Accuracy: 99.0500 - Training Loss: 0.0261 - Validation Accuracy: 98.9600 - Validation Loss: 0.0272\n"
     ]
    },
    {
     "name": "stderr",
     "output_type": "stream",
     "text": [
      "                                                                                                                       \r"
     ]
    },
    {
     "name": "stdout",
     "output_type": "stream",
     "text": [
      "Epoch 30/30 - Training Accuracy: 99.3300 - Training Loss: 0.0204 - Validation Accuracy: 99.0400 - Validation Loss: 0.0292\n",
      "Best model saved with accuracy: 99.0400%\n"
     ]
    }
   ],
   "source": [
    "# Train and evaluate the model\n",
    "num_epochs = 30\n",
    "train_losses, val_losses, train_accuracies, val_accuracies = train_and_evaluate(model, train_loader, val_loader, criterion, optimizer, num_epochs, device)"
   ]
  },
  {
   "cell_type": "code",
   "execution_count": 31,
   "id": "f8d0a625-e287-4f96-bd66-4d6adabf32a1",
   "metadata": {},
   "outputs": [
    {
     "name": "stdout",
     "output_type": "stream",
     "text": [
      "Test Loss: 0.0477, Test Accuracy: 98.40%\n"
     ]
    }
   ],
   "source": [
    "# Evaluate on test set\n",
    "test_loss, test_accuracy = validate(model, test_loader, criterion, device)\n",
    "print(f\"Test Loss: {test_loss:.4f}, Test Accuracy: {test_accuracy:.2f}%\")"
   ]
  },
  {
   "cell_type": "code",
   "execution_count": 32,
   "id": "efbeda8c-974b-4a71-9a12-4e574ae41465",
   "metadata": {},
   "outputs": [
    {
     "name": "stdout",
     "output_type": "stream",
     "text": [
      "Training results saved to vgg16_training_results.csv\n"
     ]
    }
   ],
   "source": [
    "# Save accuracy and loss to a CSV file\n",
    "with open('vgg16_training_results.csv', 'w', newline='') as f:\n",
    "    writer = csv.writer(f)\n",
    "    writer.writerow([\"Epoch\", \"Train Loss\", \"Val Loss\", \"Train Acc\", \"Val Acc\"])\n",
    "    for epoch in range(len(train_losses)):  # Use len(train_losses) instead of num_epochs\n",
    "        writer.writerow([epoch+1, train_losses[epoch], val_losses[epoch], train_accuracies[epoch], val_accuracies[epoch]])\n",
    "\n",
    "print(\"Training results saved to vgg16_training_results.csv\")"
   ]
  },
  {
   "cell_type": "code",
   "execution_count": 33,
   "id": "2e85b07b-d2b3-41dc-b52b-0e6dea1cf6dc",
   "metadata": {},
   "outputs": [
    {
     "name": "stdout",
     "output_type": "stream",
     "text": [
      "Model training complete and saved as 'vgg16_rice_model.pth'.\n"
     ]
    }
   ],
   "source": [
    "# Optionally save the final model (this is optional since best model is already saved)\n",
    "torch.save(model.state_dict(), 'vgg16_rice_model.pth')\n",
    "print(\"Model training complete and saved as 'vgg16_rice_model.pth'.\")"
   ]
  },
  {
   "cell_type": "code",
   "execution_count": 34,
   "id": "68df653a-3436-4db1-8b89-4db5a15c0e05",
   "metadata": {},
   "outputs": [
    {
     "data": {
      "image/png": "[encoded data removed]",
      "text/plain": [
       "<Figure size 1200x500 with 2 Axes>"
      ]
     },
     "metadata": {},
     "output_type": "display_data"
    }
   ],
   "source": [
    "# Plotting accuracy and loss curves\n",
    "def plot_curves(train_losses, val_losses, val_accuracies, train_accuracies):\n",
    "    epochs = range(1, len(train_losses) + 1)\n",
    "    \n",
    "    plt.figure(figsize=(12, 5))\n",
    "\n",
    "    # Plot Loss Curves\n",
    "    plt.subplot(1, 2, 1)\n",
    "    plt.plot(epochs, train_losses, 'bo-', label='Training Loss')\n",
    "    plt.plot(epochs, val_losses, 'ro-', label='Validation Loss')\n",
    "    plt.title('Loss Curves')\n",
    "    plt.xlabel('Epochs')\n",
    "    plt.ylabel('Loss')\n",
    "    plt.legend()\n",
    "\n",
    "    # Plot Accuracy Curves\n",
    "    plt.subplot(1, 2, 2)\n",
    "    plt.plot(epochs, val_accuracies, 'go-', label='Validation Accuracy')\n",
    "    plt.plot(epochs, train_accuracies, 'ro-', label='Train Accuracy')\n",
    "    plt.title('Accuracy Curve')\n",
    "    plt.xlabel('Epochs')\n",
    "    plt.ylabel('Accuracy (%)')\n",
    "    plt.legend()\n",
    "\n",
    "    plt.tight_layout()\n",
    "    plt.show()\n",
    "\n",
    "# Call the function to plot the curves\n",
    "plot_curves(train_losses, val_losses, val_accuracies, train_accuracies)"
   ]
  },
  {
   "cell_type": "code",
   "execution_count": null,
   "id": "35f3cc8b-cae3-4771-bede-7afb68dc3a4f",
   "metadata": {},
   "outputs": [],
   "source": []
  },
  {
   "cell_type": "code",
   "execution_count": null,
   "id": "759424cb-d145-46a4-b73d-47997d25cc1c",
   "metadata": {},
   "outputs": [],
   "source": []
  },
  {
   "cell_type": "code",
   "execution_count": null,
   "id": "4c5125c6-ee2d-4246-bba1-95d48d02b0d4",
   "metadata": {},
   "outputs": [],
   "source": []
  },
  {
   "cell_type": "code",
   "execution_count": null,
   "id": "b268c4da-1fde-43ad-9078-fed8b5c54f9d",
   "metadata": {},
   "outputs": [],
   "source": []
  }
 ],
 "metadata": {
  "kernelspec": {
   "display_name": "Python 3 (ipykernel)",
   "language": "python",
   "name": "python3"
  },
  "language_info": {
   "codemirror_mode": {
    "name": "ipython",
    "version": 3
   },
   "file_extension": ".py",
   "mimetype": "text/x-python",
   "name": "python",
   "nbconvert_exporter": "python",
   "pygments_lexer": "ipython3",
   "version": "3.8.20"
  }
 },
 "nbformat": 4,
 "nbformat_minor": 5
}
